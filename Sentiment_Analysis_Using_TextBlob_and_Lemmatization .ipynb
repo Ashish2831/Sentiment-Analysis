{
 "cells": [
  {
   "cell_type": "code",
   "execution_count": 1,
   "metadata": {},
   "outputs": [],
   "source": [
    "import numpy as np  # Library for Arrays\n",
    "import pandas as pd  # Library for DataFrame\n",
    "import matplotlib.pyplot as plt  # Library for Plotting\n",
    "import nltk  \n",
    "from nltk import word_tokenize, sent_tokenize  # Tokenization of Sentences and Words \n",
    "from nltk.corpus import stopwords  # To Remove Stopwords\n",
    "from sklearn.feature_extraction.text import CountVectorizer   # Bag of Words\n",
    "from sklearn.feature_extraction.text import TfidfVectorizer   # Term Freq. and Inverse Document Freq.\n",
    "from nltk.stem import LancasterStemmer, WordNetLemmatizer, PorterStemmer  # Stemming Process\n",
    "from textblob import TextBlob  # Sentiment Analysis TextBlob Library\n",
    "from sklearn.model_selection import train_test_split   # For training and spliting (80%-20%)\n",
    "from sklearn.naive_bayes import MultinomialNB    # Naive Byes ML Model\n",
    "from sklearn.metrics import accuracy_score, classification_report, confusion_matrix   # Analysis"
   ]
  },
  {
   "cell_type": "code",
   "execution_count": 2,
   "metadata": {},
   "outputs": [],
   "source": [
    "# Reading file and converting it to DataFrame\n",
    "hotel_reviews = pd.DataFrame(pd.read_csv(\"7282_1.csv\"))"
   ]
  },
  {
   "cell_type": "code",
   "execution_count": 3,
   "metadata": {},
   "outputs": [
    {
     "data": {
      "text/html": [
       "<div>\n",
       "<style scoped>\n",
       "    .dataframe tbody tr th:only-of-type {\n",
       "        vertical-align: middle;\n",
       "    }\n",
       "\n",
       "    .dataframe tbody tr th {\n",
       "        vertical-align: top;\n",
       "    }\n",
       "\n",
       "    .dataframe thead th {\n",
       "        text-align: right;\n",
       "    }\n",
       "</style>\n",
       "<table border=\"1\" class=\"dataframe\">\n",
       "  <thead>\n",
       "    <tr style=\"text-align: right;\">\n",
       "      <th></th>\n",
       "      <th>address</th>\n",
       "      <th>categories</th>\n",
       "      <th>city</th>\n",
       "      <th>country</th>\n",
       "      <th>latitude</th>\n",
       "      <th>longitude</th>\n",
       "      <th>name</th>\n",
       "      <th>postalCode</th>\n",
       "      <th>province</th>\n",
       "      <th>reviews.date</th>\n",
       "      <th>reviews.dateAdded</th>\n",
       "      <th>reviews.doRecommend</th>\n",
       "      <th>reviews.id</th>\n",
       "      <th>reviews.rating</th>\n",
       "      <th>reviews.text</th>\n",
       "      <th>reviews.title</th>\n",
       "      <th>reviews.userCity</th>\n",
       "      <th>reviews.username</th>\n",
       "      <th>reviews.userProvince</th>\n",
       "    </tr>\n",
       "  </thead>\n",
       "  <tbody>\n",
       "    <tr>\n",
       "      <th>0</th>\n",
       "      <td>Riviera San Nicol 11/a</td>\n",
       "      <td>Hotels</td>\n",
       "      <td>Mableton</td>\n",
       "      <td>US</td>\n",
       "      <td>45.421611</td>\n",
       "      <td>12.376187</td>\n",
       "      <td>Hotel Russo Palace</td>\n",
       "      <td>30126</td>\n",
       "      <td>GA</td>\n",
       "      <td>2013-09-22T00:00:00Z</td>\n",
       "      <td>2016-10-24T00:00:25Z</td>\n",
       "      <td>NaN</td>\n",
       "      <td>NaN</td>\n",
       "      <td>4.0</td>\n",
       "      <td>Pleasant 10 min walk along the sea front to th...</td>\n",
       "      <td>Good location away from the crouds</td>\n",
       "      <td>NaN</td>\n",
       "      <td>Russ (kent)</td>\n",
       "      <td>NaN</td>\n",
       "    </tr>\n",
       "    <tr>\n",
       "      <th>1</th>\n",
       "      <td>Riviera San Nicol 11/a</td>\n",
       "      <td>Hotels</td>\n",
       "      <td>Mableton</td>\n",
       "      <td>US</td>\n",
       "      <td>45.421611</td>\n",
       "      <td>12.376187</td>\n",
       "      <td>Hotel Russo Palace</td>\n",
       "      <td>30126</td>\n",
       "      <td>GA</td>\n",
       "      <td>2015-04-03T00:00:00Z</td>\n",
       "      <td>2016-10-24T00:00:25Z</td>\n",
       "      <td>NaN</td>\n",
       "      <td>NaN</td>\n",
       "      <td>5.0</td>\n",
       "      <td>Really lovely hotel. Stayed on the very top fl...</td>\n",
       "      <td>Great hotel with Jacuzzi bath!</td>\n",
       "      <td>NaN</td>\n",
       "      <td>A Traveler</td>\n",
       "      <td>NaN</td>\n",
       "    </tr>\n",
       "    <tr>\n",
       "      <th>2</th>\n",
       "      <td>Riviera San Nicol 11/a</td>\n",
       "      <td>Hotels</td>\n",
       "      <td>Mableton</td>\n",
       "      <td>US</td>\n",
       "      <td>45.421611</td>\n",
       "      <td>12.376187</td>\n",
       "      <td>Hotel Russo Palace</td>\n",
       "      <td>30126</td>\n",
       "      <td>GA</td>\n",
       "      <td>2014-05-13T00:00:00Z</td>\n",
       "      <td>2016-10-24T00:00:25Z</td>\n",
       "      <td>NaN</td>\n",
       "      <td>NaN</td>\n",
       "      <td>5.0</td>\n",
       "      <td>Ett mycket bra hotell. Det som drog ner betyge...</td>\n",
       "      <td>Lugnt l��ge</td>\n",
       "      <td>NaN</td>\n",
       "      <td>Maud</td>\n",
       "      <td>NaN</td>\n",
       "    </tr>\n",
       "    <tr>\n",
       "      <th>3</th>\n",
       "      <td>Riviera San Nicol 11/a</td>\n",
       "      <td>Hotels</td>\n",
       "      <td>Mableton</td>\n",
       "      <td>US</td>\n",
       "      <td>45.421611</td>\n",
       "      <td>12.376187</td>\n",
       "      <td>Hotel Russo Palace</td>\n",
       "      <td>30126</td>\n",
       "      <td>GA</td>\n",
       "      <td>2013-10-27T00:00:00Z</td>\n",
       "      <td>2016-10-24T00:00:25Z</td>\n",
       "      <td>NaN</td>\n",
       "      <td>NaN</td>\n",
       "      <td>5.0</td>\n",
       "      <td>We stayed here for four nights in October. The...</td>\n",
       "      <td>Good location on the Lido.</td>\n",
       "      <td>NaN</td>\n",
       "      <td>Julie</td>\n",
       "      <td>NaN</td>\n",
       "    </tr>\n",
       "    <tr>\n",
       "      <th>4</th>\n",
       "      <td>Riviera San Nicol 11/a</td>\n",
       "      <td>Hotels</td>\n",
       "      <td>Mableton</td>\n",
       "      <td>US</td>\n",
       "      <td>45.421611</td>\n",
       "      <td>12.376187</td>\n",
       "      <td>Hotel Russo Palace</td>\n",
       "      <td>30126</td>\n",
       "      <td>GA</td>\n",
       "      <td>2015-03-05T00:00:00Z</td>\n",
       "      <td>2016-10-24T00:00:25Z</td>\n",
       "      <td>NaN</td>\n",
       "      <td>NaN</td>\n",
       "      <td>5.0</td>\n",
       "      <td>We stayed here for four nights in October. The...</td>\n",
       "      <td>������ ���������������</td>\n",
       "      <td>NaN</td>\n",
       "      <td>sungchul</td>\n",
       "      <td>NaN</td>\n",
       "    </tr>\n",
       "    <tr>\n",
       "      <th>...</th>\n",
       "      <td>...</td>\n",
       "      <td>...</td>\n",
       "      <td>...</td>\n",
       "      <td>...</td>\n",
       "      <td>...</td>\n",
       "      <td>...</td>\n",
       "      <td>...</td>\n",
       "      <td>...</td>\n",
       "      <td>...</td>\n",
       "      <td>...</td>\n",
       "      <td>...</td>\n",
       "      <td>...</td>\n",
       "      <td>...</td>\n",
       "      <td>...</td>\n",
       "      <td>...</td>\n",
       "      <td>...</td>\n",
       "      <td>...</td>\n",
       "      <td>...</td>\n",
       "      <td>...</td>\n",
       "    </tr>\n",
       "    <tr>\n",
       "      <th>35907</th>\n",
       "      <td>1088 Powdermill Rd</td>\n",
       "      <td>Cabins,Resorts &amp; Vacation Cottages,Wedding Cha...</td>\n",
       "      <td>Gatlinburg</td>\n",
       "      <td>US</td>\n",
       "      <td>35.754868</td>\n",
       "      <td>-83.457295</td>\n",
       "      <td>Elk Springs Resort</td>\n",
       "      <td>37738</td>\n",
       "      <td>TN</td>\n",
       "      <td>2012-03-20T00:00:00Z</td>\n",
       "      <td>2016-06-23T16:50:58Z</td>\n",
       "      <td>NaN</td>\n",
       "      <td>NaN</td>\n",
       "      <td>5.0</td>\n",
       "      <td>Best of the Best!!!! My family and I stayed in...</td>\n",
       "      <td>Amazing time (both times!!)</td>\n",
       "      <td>Charlotte</td>\n",
       "      <td>Chelsa K.</td>\n",
       "      <td>NC</td>\n",
       "    </tr>\n",
       "    <tr>\n",
       "      <th>35908</th>\n",
       "      <td>1088 Powdermill Rd</td>\n",
       "      <td>Cabins,Resorts &amp; Vacation Cottages,Wedding Cha...</td>\n",
       "      <td>Gatlinburg</td>\n",
       "      <td>US</td>\n",
       "      <td>35.754868</td>\n",
       "      <td>-83.457295</td>\n",
       "      <td>Elk Springs Resort</td>\n",
       "      <td>37738</td>\n",
       "      <td>TN</td>\n",
       "      <td>2012-03-12T00:00:00Z</td>\n",
       "      <td>2016-06-23T16:50:58Z</td>\n",
       "      <td>NaN</td>\n",
       "      <td>NaN</td>\n",
       "      <td>5.0</td>\n",
       "      <td>Amazing Vacation in Beautiful Cabin We stayed ...</td>\n",
       "      <td>Amazing time (both times!!)</td>\n",
       "      <td>Charlotte</td>\n",
       "      <td>Heather D.</td>\n",
       "      <td>NC</td>\n",
       "    </tr>\n",
       "    <tr>\n",
       "      <th>35909</th>\n",
       "      <td>1088 Powdermill Rd</td>\n",
       "      <td>Cabins,Resorts &amp; Vacation Cottages,Wedding Cha...</td>\n",
       "      <td>Gatlinburg</td>\n",
       "      <td>US</td>\n",
       "      <td>35.754868</td>\n",
       "      <td>-83.457295</td>\n",
       "      <td>Elk Springs Resort</td>\n",
       "      <td>37738</td>\n",
       "      <td>TN</td>\n",
       "      <td>2015-11-03T00:00:00Z</td>\n",
       "      <td>2016-06-23T16:50:58Z</td>\n",
       "      <td>NaN</td>\n",
       "      <td>NaN</td>\n",
       "      <td>5.0</td>\n",
       "      <td>My husband and I stayed at Tree Tops which is ...</td>\n",
       "      <td>Amazing time (both times!!)</td>\n",
       "      <td>Charlotte</td>\n",
       "      <td>Carol W.</td>\n",
       "      <td>NC</td>\n",
       "    </tr>\n",
       "    <tr>\n",
       "      <th>35910</th>\n",
       "      <td>3747 29th St S E</td>\n",
       "      <td>Hotels-Apartment,Corporate Lodging,Hotels,Lodging</td>\n",
       "      <td>Grand Rapids</td>\n",
       "      <td>US</td>\n",
       "      <td>42.909480</td>\n",
       "      <td>-85.573590</td>\n",
       "      <td>Extended Stay America Grand Rapids - Kentwood</td>\n",
       "      <td>49512</td>\n",
       "      <td>MI</td>\n",
       "      <td>NaN</td>\n",
       "      <td>2015-12-01T19:40:54Z</td>\n",
       "      <td>NaN</td>\n",
       "      <td>NaN</td>\n",
       "      <td>0.0</td>\n",
       "      <td>to share your opinion of this businesswith YP ...</td>\n",
       "      <td>NaN</td>\n",
       "      <td>NaN</td>\n",
       "      <td>write a review</td>\n",
       "      <td>NaN</td>\n",
       "    </tr>\n",
       "    <tr>\n",
       "      <th>35911</th>\n",
       "      <td>3747 29th St S E</td>\n",
       "      <td>Hotels-Apartment,Corporate Lodging,Hotels,Lodging</td>\n",
       "      <td>Grand Rapids</td>\n",
       "      <td>US</td>\n",
       "      <td>42.909480</td>\n",
       "      <td>-85.573590</td>\n",
       "      <td>Extended Stay America Grand Rapids - Kentwood</td>\n",
       "      <td>49512</td>\n",
       "      <td>MI</td>\n",
       "      <td>NaN</td>\n",
       "      <td>2015-12-01T19:40:54Z</td>\n",
       "      <td>NaN</td>\n",
       "      <td>NaN</td>\n",
       "      <td>0.0</td>\n",
       "      <td>xxxxxxxxxxxxxxxxxxxxxxxxxxxxxxxxxxxxxxxxxx</td>\n",
       "      <td>NaN</td>\n",
       "      <td>NaN</td>\n",
       "      <td>xxxxxxxxxxxxxx</td>\n",
       "      <td>NaN</td>\n",
       "    </tr>\n",
       "  </tbody>\n",
       "</table>\n",
       "<p>35912 rows × 19 columns</p>\n",
       "</div>"
      ],
      "text/plain": [
       "                      address  \\\n",
       "0      Riviera San Nicol 11/a   \n",
       "1      Riviera San Nicol 11/a   \n",
       "2      Riviera San Nicol 11/a   \n",
       "3      Riviera San Nicol 11/a   \n",
       "4      Riviera San Nicol 11/a   \n",
       "...                       ...   \n",
       "35907      1088 Powdermill Rd   \n",
       "35908      1088 Powdermill Rd   \n",
       "35909      1088 Powdermill Rd   \n",
       "35910        3747 29th St S E   \n",
       "35911        3747 29th St S E   \n",
       "\n",
       "                                              categories          city  \\\n",
       "0                                                 Hotels      Mableton   \n",
       "1                                                 Hotels      Mableton   \n",
       "2                                                 Hotels      Mableton   \n",
       "3                                                 Hotels      Mableton   \n",
       "4                                                 Hotels      Mableton   \n",
       "...                                                  ...           ...   \n",
       "35907  Cabins,Resorts & Vacation Cottages,Wedding Cha...    Gatlinburg   \n",
       "35908  Cabins,Resorts & Vacation Cottages,Wedding Cha...    Gatlinburg   \n",
       "35909  Cabins,Resorts & Vacation Cottages,Wedding Cha...    Gatlinburg   \n",
       "35910  Hotels-Apartment,Corporate Lodging,Hotels,Lodging  Grand Rapids   \n",
       "35911  Hotels-Apartment,Corporate Lodging,Hotels,Lodging  Grand Rapids   \n",
       "\n",
       "      country   latitude  longitude  \\\n",
       "0          US  45.421611  12.376187   \n",
       "1          US  45.421611  12.376187   \n",
       "2          US  45.421611  12.376187   \n",
       "3          US  45.421611  12.376187   \n",
       "4          US  45.421611  12.376187   \n",
       "...       ...        ...        ...   \n",
       "35907      US  35.754868 -83.457295   \n",
       "35908      US  35.754868 -83.457295   \n",
       "35909      US  35.754868 -83.457295   \n",
       "35910      US  42.909480 -85.573590   \n",
       "35911      US  42.909480 -85.573590   \n",
       "\n",
       "                                                name postalCode province  \\\n",
       "0                                 Hotel Russo Palace      30126       GA   \n",
       "1                                 Hotel Russo Palace      30126       GA   \n",
       "2                                 Hotel Russo Palace      30126       GA   \n",
       "3                                 Hotel Russo Palace      30126       GA   \n",
       "4                                 Hotel Russo Palace      30126       GA   \n",
       "...                                              ...        ...      ...   \n",
       "35907                             Elk Springs Resort      37738       TN   \n",
       "35908                             Elk Springs Resort      37738       TN   \n",
       "35909                             Elk Springs Resort      37738       TN   \n",
       "35910  Extended Stay America Grand Rapids - Kentwood      49512       MI   \n",
       "35911  Extended Stay America Grand Rapids - Kentwood      49512       MI   \n",
       "\n",
       "               reviews.date     reviews.dateAdded  reviews.doRecommend  \\\n",
       "0      2013-09-22T00:00:00Z  2016-10-24T00:00:25Z                  NaN   \n",
       "1      2015-04-03T00:00:00Z  2016-10-24T00:00:25Z                  NaN   \n",
       "2      2014-05-13T00:00:00Z  2016-10-24T00:00:25Z                  NaN   \n",
       "3      2013-10-27T00:00:00Z  2016-10-24T00:00:25Z                  NaN   \n",
       "4      2015-03-05T00:00:00Z  2016-10-24T00:00:25Z                  NaN   \n",
       "...                     ...                   ...                  ...   \n",
       "35907  2012-03-20T00:00:00Z  2016-06-23T16:50:58Z                  NaN   \n",
       "35908  2012-03-12T00:00:00Z  2016-06-23T16:50:58Z                  NaN   \n",
       "35909  2015-11-03T00:00:00Z  2016-06-23T16:50:58Z                  NaN   \n",
       "35910                   NaN  2015-12-01T19:40:54Z                  NaN   \n",
       "35911                   NaN  2015-12-01T19:40:54Z                  NaN   \n",
       "\n",
       "       reviews.id  reviews.rating  \\\n",
       "0             NaN             4.0   \n",
       "1             NaN             5.0   \n",
       "2             NaN             5.0   \n",
       "3             NaN             5.0   \n",
       "4             NaN             5.0   \n",
       "...           ...             ...   \n",
       "35907         NaN             5.0   \n",
       "35908         NaN             5.0   \n",
       "35909         NaN             5.0   \n",
       "35910         NaN             0.0   \n",
       "35911         NaN             0.0   \n",
       "\n",
       "                                            reviews.text  \\\n",
       "0      Pleasant 10 min walk along the sea front to th...   \n",
       "1      Really lovely hotel. Stayed on the very top fl...   \n",
       "2      Ett mycket bra hotell. Det som drog ner betyge...   \n",
       "3      We stayed here for four nights in October. The...   \n",
       "4      We stayed here for four nights in October. The...   \n",
       "...                                                  ...   \n",
       "35907  Best of the Best!!!! My family and I stayed in...   \n",
       "35908  Amazing Vacation in Beautiful Cabin We stayed ...   \n",
       "35909  My husband and I stayed at Tree Tops which is ...   \n",
       "35910  to share your opinion of this businesswith YP ...   \n",
       "35911         xxxxxxxxxxxxxxxxxxxxxxxxxxxxxxxxxxxxxxxxxx   \n",
       "\n",
       "                            reviews.title reviews.userCity reviews.username  \\\n",
       "0      Good location away from the crouds              NaN      Russ (kent)   \n",
       "1          Great hotel with Jacuzzi bath!              NaN       A Traveler   \n",
       "2                             Lugnt l��ge              NaN             Maud   \n",
       "3              Good location on the Lido.              NaN            Julie   \n",
       "4                  ������ ���������������              NaN         sungchul   \n",
       "...                                   ...              ...              ...   \n",
       "35907         Amazing time (both times!!)        Charlotte        Chelsa K.   \n",
       "35908         Amazing time (both times!!)        Charlotte       Heather D.   \n",
       "35909         Amazing time (both times!!)        Charlotte         Carol W.   \n",
       "35910                                 NaN              NaN   write a review   \n",
       "35911                                 NaN              NaN   xxxxxxxxxxxxxx   \n",
       "\n",
       "      reviews.userProvince  \n",
       "0                      NaN  \n",
       "1                      NaN  \n",
       "2                      NaN  \n",
       "3                      NaN  \n",
       "4                      NaN  \n",
       "...                    ...  \n",
       "35907                   NC  \n",
       "35908                   NC  \n",
       "35909                   NC  \n",
       "35910                  NaN  \n",
       "35911                  NaN  \n",
       "\n",
       "[35912 rows x 19 columns]"
      ]
     },
     "execution_count": 3,
     "metadata": {},
     "output_type": "execute_result"
    }
   ],
   "source": [
    "hotel_reviews"
   ]
  },
  {
   "cell_type": "code",
   "execution_count": 4,
   "metadata": {},
   "outputs": [
    {
     "data": {
      "text/plain": [
       "(35912, 19)"
      ]
     },
     "execution_count": 4,
     "metadata": {},
     "output_type": "execute_result"
    }
   ],
   "source": [
    "hotel_reviews.shape"
   ]
  },
  {
   "cell_type": "code",
   "execution_count": 5,
   "metadata": {},
   "outputs": [
    {
     "data": {
      "text/plain": [
       "<bound method DataFrame.info of                       address  \\\n",
       "0      Riviera San Nicol 11/a   \n",
       "1      Riviera San Nicol 11/a   \n",
       "2      Riviera San Nicol 11/a   \n",
       "3      Riviera San Nicol 11/a   \n",
       "4      Riviera San Nicol 11/a   \n",
       "...                       ...   \n",
       "35907      1088 Powdermill Rd   \n",
       "35908      1088 Powdermill Rd   \n",
       "35909      1088 Powdermill Rd   \n",
       "35910        3747 29th St S E   \n",
       "35911        3747 29th St S E   \n",
       "\n",
       "                                              categories          city  \\\n",
       "0                                                 Hotels      Mableton   \n",
       "1                                                 Hotels      Mableton   \n",
       "2                                                 Hotels      Mableton   \n",
       "3                                                 Hotels      Mableton   \n",
       "4                                                 Hotels      Mableton   \n",
       "...                                                  ...           ...   \n",
       "35907  Cabins,Resorts & Vacation Cottages,Wedding Cha...    Gatlinburg   \n",
       "35908  Cabins,Resorts & Vacation Cottages,Wedding Cha...    Gatlinburg   \n",
       "35909  Cabins,Resorts & Vacation Cottages,Wedding Cha...    Gatlinburg   \n",
       "35910  Hotels-Apartment,Corporate Lodging,Hotels,Lodging  Grand Rapids   \n",
       "35911  Hotels-Apartment,Corporate Lodging,Hotels,Lodging  Grand Rapids   \n",
       "\n",
       "      country   latitude  longitude  \\\n",
       "0          US  45.421611  12.376187   \n",
       "1          US  45.421611  12.376187   \n",
       "2          US  45.421611  12.376187   \n",
       "3          US  45.421611  12.376187   \n",
       "4          US  45.421611  12.376187   \n",
       "...       ...        ...        ...   \n",
       "35907      US  35.754868 -83.457295   \n",
       "35908      US  35.754868 -83.457295   \n",
       "35909      US  35.754868 -83.457295   \n",
       "35910      US  42.909480 -85.573590   \n",
       "35911      US  42.909480 -85.573590   \n",
       "\n",
       "                                                name postalCode province  \\\n",
       "0                                 Hotel Russo Palace      30126       GA   \n",
       "1                                 Hotel Russo Palace      30126       GA   \n",
       "2                                 Hotel Russo Palace      30126       GA   \n",
       "3                                 Hotel Russo Palace      30126       GA   \n",
       "4                                 Hotel Russo Palace      30126       GA   \n",
       "...                                              ...        ...      ...   \n",
       "35907                             Elk Springs Resort      37738       TN   \n",
       "35908                             Elk Springs Resort      37738       TN   \n",
       "35909                             Elk Springs Resort      37738       TN   \n",
       "35910  Extended Stay America Grand Rapids - Kentwood      49512       MI   \n",
       "35911  Extended Stay America Grand Rapids - Kentwood      49512       MI   \n",
       "\n",
       "               reviews.date     reviews.dateAdded  reviews.doRecommend  \\\n",
       "0      2013-09-22T00:00:00Z  2016-10-24T00:00:25Z                  NaN   \n",
       "1      2015-04-03T00:00:00Z  2016-10-24T00:00:25Z                  NaN   \n",
       "2      2014-05-13T00:00:00Z  2016-10-24T00:00:25Z                  NaN   \n",
       "3      2013-10-27T00:00:00Z  2016-10-24T00:00:25Z                  NaN   \n",
       "4      2015-03-05T00:00:00Z  2016-10-24T00:00:25Z                  NaN   \n",
       "...                     ...                   ...                  ...   \n",
       "35907  2012-03-20T00:00:00Z  2016-06-23T16:50:58Z                  NaN   \n",
       "35908  2012-03-12T00:00:00Z  2016-06-23T16:50:58Z                  NaN   \n",
       "35909  2015-11-03T00:00:00Z  2016-06-23T16:50:58Z                  NaN   \n",
       "35910                   NaN  2015-12-01T19:40:54Z                  NaN   \n",
       "35911                   NaN  2015-12-01T19:40:54Z                  NaN   \n",
       "\n",
       "       reviews.id  reviews.rating  \\\n",
       "0             NaN             4.0   \n",
       "1             NaN             5.0   \n",
       "2             NaN             5.0   \n",
       "3             NaN             5.0   \n",
       "4             NaN             5.0   \n",
       "...           ...             ...   \n",
       "35907         NaN             5.0   \n",
       "35908         NaN             5.0   \n",
       "35909         NaN             5.0   \n",
       "35910         NaN             0.0   \n",
       "35911         NaN             0.0   \n",
       "\n",
       "                                            reviews.text  \\\n",
       "0      Pleasant 10 min walk along the sea front to th...   \n",
       "1      Really lovely hotel. Stayed on the very top fl...   \n",
       "2      Ett mycket bra hotell. Det som drog ner betyge...   \n",
       "3      We stayed here for four nights in October. The...   \n",
       "4      We stayed here for four nights in October. The...   \n",
       "...                                                  ...   \n",
       "35907  Best of the Best!!!! My family and I stayed in...   \n",
       "35908  Amazing Vacation in Beautiful Cabin We stayed ...   \n",
       "35909  My husband and I stayed at Tree Tops which is ...   \n",
       "35910  to share your opinion of this businesswith YP ...   \n",
       "35911         xxxxxxxxxxxxxxxxxxxxxxxxxxxxxxxxxxxxxxxxxx   \n",
       "\n",
       "                            reviews.title reviews.userCity reviews.username  \\\n",
       "0      Good location away from the crouds              NaN      Russ (kent)   \n",
       "1          Great hotel with Jacuzzi bath!              NaN       A Traveler   \n",
       "2                             Lugnt l��ge              NaN             Maud   \n",
       "3              Good location on the Lido.              NaN            Julie   \n",
       "4                  ������ ���������������              NaN         sungchul   \n",
       "...                                   ...              ...              ...   \n",
       "35907         Amazing time (both times!!)        Charlotte        Chelsa K.   \n",
       "35908         Amazing time (both times!!)        Charlotte       Heather D.   \n",
       "35909         Amazing time (both times!!)        Charlotte         Carol W.   \n",
       "35910                                 NaN              NaN   write a review   \n",
       "35911                                 NaN              NaN   xxxxxxxxxxxxxx   \n",
       "\n",
       "      reviews.userProvince  \n",
       "0                      NaN  \n",
       "1                      NaN  \n",
       "2                      NaN  \n",
       "3                      NaN  \n",
       "4                      NaN  \n",
       "...                    ...  \n",
       "35907                   NC  \n",
       "35908                   NC  \n",
       "35909                   NC  \n",
       "35910                  NaN  \n",
       "35911                  NaN  \n",
       "\n",
       "[35912 rows x 19 columns]>"
      ]
     },
     "execution_count": 5,
     "metadata": {},
     "output_type": "execute_result"
    }
   ],
   "source": [
    "hotel_reviews.info"
   ]
  },
  {
   "cell_type": "code",
   "execution_count": 6,
   "metadata": {},
   "outputs": [
    {
     "data": {
      "text/plain": [
       "<bound method NDFrame.describe of                       address  \\\n",
       "0      Riviera San Nicol 11/a   \n",
       "1      Riviera San Nicol 11/a   \n",
       "2      Riviera San Nicol 11/a   \n",
       "3      Riviera San Nicol 11/a   \n",
       "4      Riviera San Nicol 11/a   \n",
       "...                       ...   \n",
       "35907      1088 Powdermill Rd   \n",
       "35908      1088 Powdermill Rd   \n",
       "35909      1088 Powdermill Rd   \n",
       "35910        3747 29th St S E   \n",
       "35911        3747 29th St S E   \n",
       "\n",
       "                                              categories          city  \\\n",
       "0                                                 Hotels      Mableton   \n",
       "1                                                 Hotels      Mableton   \n",
       "2                                                 Hotels      Mableton   \n",
       "3                                                 Hotels      Mableton   \n",
       "4                                                 Hotels      Mableton   \n",
       "...                                                  ...           ...   \n",
       "35907  Cabins,Resorts & Vacation Cottages,Wedding Cha...    Gatlinburg   \n",
       "35908  Cabins,Resorts & Vacation Cottages,Wedding Cha...    Gatlinburg   \n",
       "35909  Cabins,Resorts & Vacation Cottages,Wedding Cha...    Gatlinburg   \n",
       "35910  Hotels-Apartment,Corporate Lodging,Hotels,Lodging  Grand Rapids   \n",
       "35911  Hotels-Apartment,Corporate Lodging,Hotels,Lodging  Grand Rapids   \n",
       "\n",
       "      country   latitude  longitude  \\\n",
       "0          US  45.421611  12.376187   \n",
       "1          US  45.421611  12.376187   \n",
       "2          US  45.421611  12.376187   \n",
       "3          US  45.421611  12.376187   \n",
       "4          US  45.421611  12.376187   \n",
       "...       ...        ...        ...   \n",
       "35907      US  35.754868 -83.457295   \n",
       "35908      US  35.754868 -83.457295   \n",
       "35909      US  35.754868 -83.457295   \n",
       "35910      US  42.909480 -85.573590   \n",
       "35911      US  42.909480 -85.573590   \n",
       "\n",
       "                                                name postalCode province  \\\n",
       "0                                 Hotel Russo Palace      30126       GA   \n",
       "1                                 Hotel Russo Palace      30126       GA   \n",
       "2                                 Hotel Russo Palace      30126       GA   \n",
       "3                                 Hotel Russo Palace      30126       GA   \n",
       "4                                 Hotel Russo Palace      30126       GA   \n",
       "...                                              ...        ...      ...   \n",
       "35907                             Elk Springs Resort      37738       TN   \n",
       "35908                             Elk Springs Resort      37738       TN   \n",
       "35909                             Elk Springs Resort      37738       TN   \n",
       "35910  Extended Stay America Grand Rapids - Kentwood      49512       MI   \n",
       "35911  Extended Stay America Grand Rapids - Kentwood      49512       MI   \n",
       "\n",
       "               reviews.date     reviews.dateAdded  reviews.doRecommend  \\\n",
       "0      2013-09-22T00:00:00Z  2016-10-24T00:00:25Z                  NaN   \n",
       "1      2015-04-03T00:00:00Z  2016-10-24T00:00:25Z                  NaN   \n",
       "2      2014-05-13T00:00:00Z  2016-10-24T00:00:25Z                  NaN   \n",
       "3      2013-10-27T00:00:00Z  2016-10-24T00:00:25Z                  NaN   \n",
       "4      2015-03-05T00:00:00Z  2016-10-24T00:00:25Z                  NaN   \n",
       "...                     ...                   ...                  ...   \n",
       "35907  2012-03-20T00:00:00Z  2016-06-23T16:50:58Z                  NaN   \n",
       "35908  2012-03-12T00:00:00Z  2016-06-23T16:50:58Z                  NaN   \n",
       "35909  2015-11-03T00:00:00Z  2016-06-23T16:50:58Z                  NaN   \n",
       "35910                   NaN  2015-12-01T19:40:54Z                  NaN   \n",
       "35911                   NaN  2015-12-01T19:40:54Z                  NaN   \n",
       "\n",
       "       reviews.id  reviews.rating  \\\n",
       "0             NaN             4.0   \n",
       "1             NaN             5.0   \n",
       "2             NaN             5.0   \n",
       "3             NaN             5.0   \n",
       "4             NaN             5.0   \n",
       "...           ...             ...   \n",
       "35907         NaN             5.0   \n",
       "35908         NaN             5.0   \n",
       "35909         NaN             5.0   \n",
       "35910         NaN             0.0   \n",
       "35911         NaN             0.0   \n",
       "\n",
       "                                            reviews.text  \\\n",
       "0      Pleasant 10 min walk along the sea front to th...   \n",
       "1      Really lovely hotel. Stayed on the very top fl...   \n",
       "2      Ett mycket bra hotell. Det som drog ner betyge...   \n",
       "3      We stayed here for four nights in October. The...   \n",
       "4      We stayed here for four nights in October. The...   \n",
       "...                                                  ...   \n",
       "35907  Best of the Best!!!! My family and I stayed in...   \n",
       "35908  Amazing Vacation in Beautiful Cabin We stayed ...   \n",
       "35909  My husband and I stayed at Tree Tops which is ...   \n",
       "35910  to share your opinion of this businesswith YP ...   \n",
       "35911         xxxxxxxxxxxxxxxxxxxxxxxxxxxxxxxxxxxxxxxxxx   \n",
       "\n",
       "                            reviews.title reviews.userCity reviews.username  \\\n",
       "0      Good location away from the crouds              NaN      Russ (kent)   \n",
       "1          Great hotel with Jacuzzi bath!              NaN       A Traveler   \n",
       "2                             Lugnt l��ge              NaN             Maud   \n",
       "3              Good location on the Lido.              NaN            Julie   \n",
       "4                  ������ ���������������              NaN         sungchul   \n",
       "...                                   ...              ...              ...   \n",
       "35907         Amazing time (both times!!)        Charlotte        Chelsa K.   \n",
       "35908         Amazing time (both times!!)        Charlotte       Heather D.   \n",
       "35909         Amazing time (both times!!)        Charlotte         Carol W.   \n",
       "35910                                 NaN              NaN   write a review   \n",
       "35911                                 NaN              NaN   xxxxxxxxxxxxxx   \n",
       "\n",
       "      reviews.userProvince  \n",
       "0                      NaN  \n",
       "1                      NaN  \n",
       "2                      NaN  \n",
       "3                      NaN  \n",
       "4                      NaN  \n",
       "...                    ...  \n",
       "35907                   NC  \n",
       "35908                   NC  \n",
       "35909                   NC  \n",
       "35910                  NaN  \n",
       "35911                  NaN  \n",
       "\n",
       "[35912 rows x 19 columns]>"
      ]
     },
     "execution_count": 6,
     "metadata": {},
     "output_type": "execute_result"
    }
   ],
   "source": [
    "hotel_reviews.describe"
   ]
  },
  {
   "cell_type": "code",
   "execution_count": 7,
   "metadata": {},
   "outputs": [
    {
     "data": {
      "text/plain": [
       "Index(['address', 'categories', 'city', 'country', 'latitude', 'longitude',\n",
       "       'name', 'postalCode', 'province', 'reviews.date', 'reviews.dateAdded',\n",
       "       'reviews.doRecommend', 'reviews.id', 'reviews.rating', 'reviews.text',\n",
       "       'reviews.title', 'reviews.userCity', 'reviews.username',\n",
       "       'reviews.userProvince'],\n",
       "      dtype='object')"
      ]
     },
     "execution_count": 7,
     "metadata": {},
     "output_type": "execute_result"
    }
   ],
   "source": [
    "hotel_reviews.columns"
   ]
  },
  {
   "cell_type": "code",
   "execution_count": 8,
   "metadata": {},
   "outputs": [
    {
     "data": {
      "text/html": [
       "<div>\n",
       "<style scoped>\n",
       "    .dataframe tbody tr th:only-of-type {\n",
       "        vertical-align: middle;\n",
       "    }\n",
       "\n",
       "    .dataframe tbody tr th {\n",
       "        vertical-align: top;\n",
       "    }\n",
       "\n",
       "    .dataframe thead th {\n",
       "        text-align: right;\n",
       "    }\n",
       "</style>\n",
       "<table border=\"1\" class=\"dataframe\">\n",
       "  <thead>\n",
       "    <tr style=\"text-align: right;\">\n",
       "      <th></th>\n",
       "      <th>address</th>\n",
       "      <th>categories</th>\n",
       "      <th>city</th>\n",
       "      <th>country</th>\n",
       "      <th>latitude</th>\n",
       "      <th>longitude</th>\n",
       "      <th>name</th>\n",
       "      <th>postalCode</th>\n",
       "      <th>province</th>\n",
       "      <th>reviews.date</th>\n",
       "      <th>reviews.dateAdded</th>\n",
       "      <th>reviews.doRecommend</th>\n",
       "      <th>reviews.id</th>\n",
       "      <th>reviews.rating</th>\n",
       "      <th>reviews.text</th>\n",
       "      <th>reviews.title</th>\n",
       "      <th>reviews.userCity</th>\n",
       "      <th>reviews.username</th>\n",
       "      <th>reviews.userProvince</th>\n",
       "    </tr>\n",
       "  </thead>\n",
       "  <tbody>\n",
       "    <tr>\n",
       "      <th>0</th>\n",
       "      <td>Riviera San Nicol 11/a</td>\n",
       "      <td>Hotels</td>\n",
       "      <td>Mableton</td>\n",
       "      <td>US</td>\n",
       "      <td>45.421611</td>\n",
       "      <td>12.376187</td>\n",
       "      <td>Hotel Russo Palace</td>\n",
       "      <td>30126</td>\n",
       "      <td>GA</td>\n",
       "      <td>2013-09-22T00:00:00Z</td>\n",
       "      <td>2016-10-24T00:00:25Z</td>\n",
       "      <td>NaN</td>\n",
       "      <td>NaN</td>\n",
       "      <td>4.0</td>\n",
       "      <td>Pleasant 10 min walk along the sea front to th...</td>\n",
       "      <td>Good location away from the crouds</td>\n",
       "      <td>NaN</td>\n",
       "      <td>Russ (kent)</td>\n",
       "      <td>NaN</td>\n",
       "    </tr>\n",
       "    <tr>\n",
       "      <th>1</th>\n",
       "      <td>Riviera San Nicol 11/a</td>\n",
       "      <td>Hotels</td>\n",
       "      <td>Mableton</td>\n",
       "      <td>US</td>\n",
       "      <td>45.421611</td>\n",
       "      <td>12.376187</td>\n",
       "      <td>Hotel Russo Palace</td>\n",
       "      <td>30126</td>\n",
       "      <td>GA</td>\n",
       "      <td>2015-04-03T00:00:00Z</td>\n",
       "      <td>2016-10-24T00:00:25Z</td>\n",
       "      <td>NaN</td>\n",
       "      <td>NaN</td>\n",
       "      <td>5.0</td>\n",
       "      <td>Really lovely hotel. Stayed on the very top fl...</td>\n",
       "      <td>Great hotel with Jacuzzi bath!</td>\n",
       "      <td>NaN</td>\n",
       "      <td>A Traveler</td>\n",
       "      <td>NaN</td>\n",
       "    </tr>\n",
       "    <tr>\n",
       "      <th>2</th>\n",
       "      <td>Riviera San Nicol 11/a</td>\n",
       "      <td>Hotels</td>\n",
       "      <td>Mableton</td>\n",
       "      <td>US</td>\n",
       "      <td>45.421611</td>\n",
       "      <td>12.376187</td>\n",
       "      <td>Hotel Russo Palace</td>\n",
       "      <td>30126</td>\n",
       "      <td>GA</td>\n",
       "      <td>2014-05-13T00:00:00Z</td>\n",
       "      <td>2016-10-24T00:00:25Z</td>\n",
       "      <td>NaN</td>\n",
       "      <td>NaN</td>\n",
       "      <td>5.0</td>\n",
       "      <td>Ett mycket bra hotell. Det som drog ner betyge...</td>\n",
       "      <td>Lugnt l��ge</td>\n",
       "      <td>NaN</td>\n",
       "      <td>Maud</td>\n",
       "      <td>NaN</td>\n",
       "    </tr>\n",
       "    <tr>\n",
       "      <th>3</th>\n",
       "      <td>Riviera San Nicol 11/a</td>\n",
       "      <td>Hotels</td>\n",
       "      <td>Mableton</td>\n",
       "      <td>US</td>\n",
       "      <td>45.421611</td>\n",
       "      <td>12.376187</td>\n",
       "      <td>Hotel Russo Palace</td>\n",
       "      <td>30126</td>\n",
       "      <td>GA</td>\n",
       "      <td>2013-10-27T00:00:00Z</td>\n",
       "      <td>2016-10-24T00:00:25Z</td>\n",
       "      <td>NaN</td>\n",
       "      <td>NaN</td>\n",
       "      <td>5.0</td>\n",
       "      <td>We stayed here for four nights in October. The...</td>\n",
       "      <td>Good location on the Lido.</td>\n",
       "      <td>NaN</td>\n",
       "      <td>Julie</td>\n",
       "      <td>NaN</td>\n",
       "    </tr>\n",
       "    <tr>\n",
       "      <th>4</th>\n",
       "      <td>Riviera San Nicol 11/a</td>\n",
       "      <td>Hotels</td>\n",
       "      <td>Mableton</td>\n",
       "      <td>US</td>\n",
       "      <td>45.421611</td>\n",
       "      <td>12.376187</td>\n",
       "      <td>Hotel Russo Palace</td>\n",
       "      <td>30126</td>\n",
       "      <td>GA</td>\n",
       "      <td>2015-03-05T00:00:00Z</td>\n",
       "      <td>2016-10-24T00:00:25Z</td>\n",
       "      <td>NaN</td>\n",
       "      <td>NaN</td>\n",
       "      <td>5.0</td>\n",
       "      <td>We stayed here for four nights in October. The...</td>\n",
       "      <td>������ ���������������</td>\n",
       "      <td>NaN</td>\n",
       "      <td>sungchul</td>\n",
       "      <td>NaN</td>\n",
       "    </tr>\n",
       "  </tbody>\n",
       "</table>\n",
       "</div>"
      ],
      "text/plain": [
       "                  address categories      city country   latitude  longitude  \\\n",
       "0  Riviera San Nicol 11/a     Hotels  Mableton      US  45.421611  12.376187   \n",
       "1  Riviera San Nicol 11/a     Hotels  Mableton      US  45.421611  12.376187   \n",
       "2  Riviera San Nicol 11/a     Hotels  Mableton      US  45.421611  12.376187   \n",
       "3  Riviera San Nicol 11/a     Hotels  Mableton      US  45.421611  12.376187   \n",
       "4  Riviera San Nicol 11/a     Hotels  Mableton      US  45.421611  12.376187   \n",
       "\n",
       "                 name postalCode province          reviews.date  \\\n",
       "0  Hotel Russo Palace      30126       GA  2013-09-22T00:00:00Z   \n",
       "1  Hotel Russo Palace      30126       GA  2015-04-03T00:00:00Z   \n",
       "2  Hotel Russo Palace      30126       GA  2014-05-13T00:00:00Z   \n",
       "3  Hotel Russo Palace      30126       GA  2013-10-27T00:00:00Z   \n",
       "4  Hotel Russo Palace      30126       GA  2015-03-05T00:00:00Z   \n",
       "\n",
       "      reviews.dateAdded  reviews.doRecommend  reviews.id  reviews.rating  \\\n",
       "0  2016-10-24T00:00:25Z                  NaN         NaN             4.0   \n",
       "1  2016-10-24T00:00:25Z                  NaN         NaN             5.0   \n",
       "2  2016-10-24T00:00:25Z                  NaN         NaN             5.0   \n",
       "3  2016-10-24T00:00:25Z                  NaN         NaN             5.0   \n",
       "4  2016-10-24T00:00:25Z                  NaN         NaN             5.0   \n",
       "\n",
       "                                        reviews.text  \\\n",
       "0  Pleasant 10 min walk along the sea front to th...   \n",
       "1  Really lovely hotel. Stayed on the very top fl...   \n",
       "2  Ett mycket bra hotell. Det som drog ner betyge...   \n",
       "3  We stayed here for four nights in October. The...   \n",
       "4  We stayed here for four nights in October. The...   \n",
       "\n",
       "                        reviews.title reviews.userCity reviews.username  \\\n",
       "0  Good location away from the crouds              NaN      Russ (kent)   \n",
       "1      Great hotel with Jacuzzi bath!              NaN       A Traveler   \n",
       "2                         Lugnt l��ge              NaN             Maud   \n",
       "3          Good location on the Lido.              NaN            Julie   \n",
       "4              ������ ���������������              NaN         sungchul   \n",
       "\n",
       "  reviews.userProvince  \n",
       "0                  NaN  \n",
       "1                  NaN  \n",
       "2                  NaN  \n",
       "3                  NaN  \n",
       "4                  NaN  "
      ]
     },
     "execution_count": 8,
     "metadata": {},
     "output_type": "execute_result"
    }
   ],
   "source": [
    "hotel_reviews.head()"
   ]
  },
  {
   "cell_type": "code",
   "execution_count": 9,
   "metadata": {},
   "outputs": [],
   "source": [
    "columns = ['address', 'categories', 'city', 'country', 'latitude', 'longitude',\n",
    "           'name', 'postalCode', 'province', 'reviews.date', 'reviews.dateAdded',\n",
    "           'reviews.doRecommend', 'reviews.id', 'reviews.title', 'reviews.userCity',\n",
    "           'reviews.username', 'reviews.userProvince']"
   ]
  },
  {
   "cell_type": "code",
   "execution_count": 10,
   "metadata": {},
   "outputs": [],
   "source": [
    "# Removing the extra columns present in the DataFrame\n",
    "hotel_reviews = pd.DataFrame(hotel_reviews.drop(columns, axis=1, inplace=False))"
   ]
  },
  {
   "cell_type": "code",
   "execution_count": 11,
   "metadata": {},
   "outputs": [
    {
     "data": {
      "text/html": [
       "<div>\n",
       "<style scoped>\n",
       "    .dataframe tbody tr th:only-of-type {\n",
       "        vertical-align: middle;\n",
       "    }\n",
       "\n",
       "    .dataframe tbody tr th {\n",
       "        vertical-align: top;\n",
       "    }\n",
       "\n",
       "    .dataframe thead th {\n",
       "        text-align: right;\n",
       "    }\n",
       "</style>\n",
       "<table border=\"1\" class=\"dataframe\">\n",
       "  <thead>\n",
       "    <tr style=\"text-align: right;\">\n",
       "      <th></th>\n",
       "      <th>reviews.rating</th>\n",
       "      <th>reviews.text</th>\n",
       "    </tr>\n",
       "  </thead>\n",
       "  <tbody>\n",
       "    <tr>\n",
       "      <th>0</th>\n",
       "      <td>4.0</td>\n",
       "      <td>Pleasant 10 min walk along the sea front to th...</td>\n",
       "    </tr>\n",
       "    <tr>\n",
       "      <th>1</th>\n",
       "      <td>5.0</td>\n",
       "      <td>Really lovely hotel. Stayed on the very top fl...</td>\n",
       "    </tr>\n",
       "    <tr>\n",
       "      <th>2</th>\n",
       "      <td>5.0</td>\n",
       "      <td>Ett mycket bra hotell. Det som drog ner betyge...</td>\n",
       "    </tr>\n",
       "    <tr>\n",
       "      <th>3</th>\n",
       "      <td>5.0</td>\n",
       "      <td>We stayed here for four nights in October. The...</td>\n",
       "    </tr>\n",
       "    <tr>\n",
       "      <th>4</th>\n",
       "      <td>5.0</td>\n",
       "      <td>We stayed here for four nights in October. The...</td>\n",
       "    </tr>\n",
       "    <tr>\n",
       "      <th>...</th>\n",
       "      <td>...</td>\n",
       "      <td>...</td>\n",
       "    </tr>\n",
       "    <tr>\n",
       "      <th>35907</th>\n",
       "      <td>5.0</td>\n",
       "      <td>Best of the Best!!!! My family and I stayed in...</td>\n",
       "    </tr>\n",
       "    <tr>\n",
       "      <th>35908</th>\n",
       "      <td>5.0</td>\n",
       "      <td>Amazing Vacation in Beautiful Cabin We stayed ...</td>\n",
       "    </tr>\n",
       "    <tr>\n",
       "      <th>35909</th>\n",
       "      <td>5.0</td>\n",
       "      <td>My husband and I stayed at Tree Tops which is ...</td>\n",
       "    </tr>\n",
       "    <tr>\n",
       "      <th>35910</th>\n",
       "      <td>0.0</td>\n",
       "      <td>to share your opinion of this businesswith YP ...</td>\n",
       "    </tr>\n",
       "    <tr>\n",
       "      <th>35911</th>\n",
       "      <td>0.0</td>\n",
       "      <td>xxxxxxxxxxxxxxxxxxxxxxxxxxxxxxxxxxxxxxxxxx</td>\n",
       "    </tr>\n",
       "  </tbody>\n",
       "</table>\n",
       "<p>35912 rows × 2 columns</p>\n",
       "</div>"
      ],
      "text/plain": [
       "       reviews.rating                                       reviews.text\n",
       "0                 4.0  Pleasant 10 min walk along the sea front to th...\n",
       "1                 5.0  Really lovely hotel. Stayed on the very top fl...\n",
       "2                 5.0  Ett mycket bra hotell. Det som drog ner betyge...\n",
       "3                 5.0  We stayed here for four nights in October. The...\n",
       "4                 5.0  We stayed here for four nights in October. The...\n",
       "...               ...                                                ...\n",
       "35907             5.0  Best of the Best!!!! My family and I stayed in...\n",
       "35908             5.0  Amazing Vacation in Beautiful Cabin We stayed ...\n",
       "35909             5.0  My husband and I stayed at Tree Tops which is ...\n",
       "35910             0.0  to share your opinion of this businesswith YP ...\n",
       "35911             0.0         xxxxxxxxxxxxxxxxxxxxxxxxxxxxxxxxxxxxxxxxxx\n",
       "\n",
       "[35912 rows x 2 columns]"
      ]
     },
     "execution_count": 11,
     "metadata": {},
     "output_type": "execute_result"
    }
   ],
   "source": [
    "hotel_reviews"
   ]
  },
  {
   "cell_type": "code",
   "execution_count": 12,
   "metadata": {},
   "outputs": [
    {
     "data": {
      "text/plain": [
       "(35912, 2)"
      ]
     },
     "execution_count": 12,
     "metadata": {},
     "output_type": "execute_result"
    }
   ],
   "source": [
    "hotel_reviews.shape"
   ]
  },
  {
   "cell_type": "code",
   "execution_count": 13,
   "metadata": {},
   "outputs": [
    {
     "data": {
      "text/plain": [
       "5.0     12671\n",
       "4.0      9755\n",
       "3.0      5708\n",
       "1.0      3068\n",
       "2.0      2979\n",
       "0.0       337\n",
       "10.0      101\n",
       "9.6        53\n",
       "9.2        49\n",
       "4.3        26\n",
       "4.8        25\n",
       "8.3        25\n",
       "7.9        24\n",
       "7.5        24\n",
       "8.8        24\n",
       "4.2        22\n",
       "3.4        17\n",
       "4.1        14\n",
       "6.3        14\n",
       "7.1        13\n",
       "4.5        13\n",
       "6.7        12\n",
       "5.4         9\n",
       "4.6         7\n",
       "3.1         7\n",
       "5.8         6\n",
       "4.4         6\n",
       "3.3         6\n",
       "4.7         6\n",
       "4.9         6\n",
       "2.4         4\n",
       "2.5         3\n",
       "3.8         3\n",
       "3.7         2\n",
       "3.2         2\n",
       "3.9         2\n",
       "2.8         1\n",
       "1.3         1\n",
       "9.5         1\n",
       "1.5         1\n",
       "6.0         1\n",
       "2.9         1\n",
       "7.0         1\n",
       "Name: reviews.rating, dtype: int64"
      ]
     },
     "execution_count": 13,
     "metadata": {},
     "output_type": "execute_result"
    }
   ],
   "source": [
    "hotel_reviews['reviews.rating'].value_counts()"
   ]
  },
  {
   "cell_type": "code",
   "execution_count": 14,
   "metadata": {},
   "outputs": [
    {
     "data": {
      "text/plain": [
       "<AxesSubplot:>"
      ]
     },
     "execution_count": 14,
     "metadata": {},
     "output_type": "execute_result"
    },
    {
     "data": {
      "image/png": "[encoded data removed]",
      "text/plain": [
       "<Figure size 432x288 with 1 Axes>"
      ]
     },
     "metadata": {
      "needs_background": "light"
     },
     "output_type": "display_data"
    }
   ],
   "source": [
    "# Plotting Graph of 'reviews.rating'\n",
    "hotel_reviews['reviews.rating'].value_counts().plot(kind='bar')"
   ]
  },
  {
   "cell_type": "code",
   "execution_count": 15,
   "metadata": {},
   "outputs": [],
   "source": [
    "hotel_reviews['reviews.text'] = hotel_reviews['reviews.text'].astype(str)"
   ]
  },
  {
   "cell_type": "code",
   "execution_count": 16,
   "metadata": {},
   "outputs": [
    {
     "data": {
      "text/plain": [
       "'We loved staying on the island of Lido! You need to take a water is from Venice to get there. From the train station, a boat ride takes 45 minutes but has beautiful views along the way. Hotel is an EASY walk from the boat dock. The room was very clean and the breakfast was plentiful. We would definitely recommend this hotel!'"
      ]
     },
     "execution_count": 16,
     "metadata": {},
     "output_type": "execute_result"
    }
   ],
   "source": [
    "hotel_reviews['reviews.text'][5]"
   ]
  },
  {
   "cell_type": "code",
   "execution_count": 17,
   "metadata": {},
   "outputs": [],
   "source": [
    "# Function to convert uppercase letters into lowercase letters \n",
    "def toLower(text):\n",
    "    return text.lower()"
   ]
  },
  {
   "cell_type": "code",
   "execution_count": 18,
   "metadata": {},
   "outputs": [],
   "source": [
    "# Applying toLower function to 'reviews.text' column\n",
    "hotel_reviews['reviews.text'] = hotel_reviews['reviews.text'].apply(toLower)"
   ]
  },
  {
   "cell_type": "code",
   "execution_count": 19,
   "metadata": {},
   "outputs": [
    {
     "data": {
      "text/plain": [
       "'we loved staying on the island of lido! you need to take a water is from venice to get there. from the train station, a boat ride takes 45 minutes but has beautiful views along the way. hotel is an easy walk from the boat dock. the room was very clean and the breakfast was plentiful. we would definitely recommend this hotel!'"
      ]
     },
     "execution_count": 19,
     "metadata": {},
     "output_type": "execute_result"
    }
   ],
   "source": [
    "hotel_reviews['reviews.text'][5]"
   ]
  },
  {
   "cell_type": "code",
   "execution_count": 20,
   "metadata": {},
   "outputs": [],
   "source": [
    "# Function to remove special characters\n",
    "def isSpecial(text):\n",
    "    rem = ''\n",
    "    for i in text:\n",
    "        if i.isalnum():\n",
    "            rem = rem + i\n",
    "        else:\n",
    "            rem = rem + ' '\n",
    "    return rem"
   ]
  },
  {
   "cell_type": "code",
   "execution_count": 21,
   "metadata": {},
   "outputs": [],
   "source": [
    "hotel_reviews['reviews.text'] = hotel_reviews['reviews.text'].apply(isSpecial)"
   ]
  },
  {
   "cell_type": "code",
   "execution_count": 22,
   "metadata": {},
   "outputs": [
    {
     "data": {
      "text/plain": [
       "'we loved staying on the island of lido  you need to take a water is from venice to get there  from the train station  a boat ride takes 45 minutes but has beautiful views along the way  hotel is an easy walk from the boat dock  the room was very clean and the breakfast was plentiful  we would definitely recommend this hotel '"
      ]
     },
     "execution_count": 22,
     "metadata": {},
     "output_type": "execute_result"
    }
   ],
   "source": [
    "hotel_reviews['reviews.text'][5]"
   ]
  },
  {
   "cell_type": "code",
   "execution_count": 23,
   "metadata": {},
   "outputs": [],
   "source": [
    "# Function to remove stopwords\n",
    "def removeStopwords(text):\n",
    "    stop_words = set(stopwords.words('english'))\n",
    "    words = word_tokenize(text)\n",
    "    return [w for w in words if w not in stop_words]"
   ]
  },
  {
   "cell_type": "code",
   "execution_count": 24,
   "metadata": {},
   "outputs": [],
   "source": [
    "hotel_reviews['reviews.text'] = hotel_reviews['reviews.text'].apply(removeStopwords)"
   ]
  },
  {
   "cell_type": "code",
   "execution_count": 25,
   "metadata": {},
   "outputs": [
    {
     "data": {
      "text/plain": [
       "['loved',\n",
       " 'staying',\n",
       " 'island',\n",
       " 'lido',\n",
       " 'need',\n",
       " 'take',\n",
       " 'water',\n",
       " 'venice',\n",
       " 'get',\n",
       " 'train',\n",
       " 'station',\n",
       " 'boat',\n",
       " 'ride',\n",
       " 'takes',\n",
       " '45',\n",
       " 'minutes',\n",
       " 'beautiful',\n",
       " 'views',\n",
       " 'along',\n",
       " 'way',\n",
       " 'hotel',\n",
       " 'easy',\n",
       " 'walk',\n",
       " 'boat',\n",
       " 'dock',\n",
       " 'room',\n",
       " 'clean',\n",
       " 'breakfast',\n",
       " 'plentiful',\n",
       " 'would',\n",
       " 'definitely',\n",
       " 'recommend',\n",
       " 'hotel']"
      ]
     },
     "execution_count": 25,
     "metadata": {},
     "output_type": "execute_result"
    }
   ],
   "source": [
    "hotel_reviews['reviews.text'][5]"
   ]
  },
  {
   "cell_type": "code",
   "execution_count": 26,
   "metadata": {},
   "outputs": [],
   "source": [
    "# Apply Lemmatization\n",
    "def lemmatization(text):\n",
    "    lemmatizer = WordNetLemmatizer()\n",
    "    return \" \".join([lemmatizer.lemmatize(word) for word in text])"
   ]
  },
  {
   "cell_type": "code",
   "execution_count": 27,
   "metadata": {},
   "outputs": [],
   "source": [
    "hotel_reviews['reviews.text'] = hotel_reviews['reviews.text'].apply(lemmatization)"
   ]
  },
  {
   "cell_type": "code",
   "execution_count": 28,
   "metadata": {},
   "outputs": [
    {
     "data": {
      "text/plain": [
       "'loved staying island lido need take water venice get train station boat ride take 45 minute beautiful view along way hotel easy walk boat dock room clean breakfast plentiful would definitely recommend hotel'"
      ]
     },
     "execution_count": 28,
     "metadata": {},
     "output_type": "execute_result"
    }
   ],
   "source": [
    "hotel_reviews['reviews.text'][5]"
   ]
  },
  {
   "cell_type": "code",
   "execution_count": 29,
   "metadata": {},
   "outputs": [],
   "source": [
    "# Function to calculate score for the entire dataset\n",
    "def sentimentScore(text):\n",
    "    return TextBlob(text).sentiment"
   ]
  },
  {
   "cell_type": "code",
   "execution_count": 30,
   "metadata": {},
   "outputs": [],
   "source": [
    "hotel_reviews['sentiment.score'] = hotel_reviews['reviews.text'].apply(sentimentScore)"
   ]
  },
  {
   "cell_type": "code",
   "execution_count": 31,
   "metadata": {},
   "outputs": [
    {
     "data": {
      "text/plain": [
       "0     (0.611111111111111, 0.7888888888888889)\n",
       "1    (0.5535714285714286, 0.7000000000000001)\n",
       "2                                (0.35, 0.55)\n",
       "3                 (0.3177083333333333, 0.625)\n",
       "4                 (0.3177083333333333, 0.625)\n",
       "Name: sentiment.score, dtype: object"
      ]
     },
     "execution_count": 31,
     "metadata": {},
     "output_type": "execute_result"
    }
   ],
   "source": [
    "hotel_reviews['sentiment.score'].head()"
   ]
  },
  {
   "cell_type": "code",
   "execution_count": 32,
   "metadata": {},
   "outputs": [],
   "source": [
    "# Function to calculate Sentiments \n",
    "def sentiment(senti):\n",
    "    if senti.polarity < 0:\n",
    "        return \"Negative\"\n",
    "    elif senti.polarity > 0:\n",
    "        return \"Positive\"\n",
    "    else:\n",
    "        return \"Neutral\""
   ]
  },
  {
   "cell_type": "code",
   "execution_count": 33,
   "metadata": {},
   "outputs": [],
   "source": [
    "hotel_reviews['sentiment'] = hotel_reviews['sentiment.score'].apply(sentiment)"
   ]
  },
  {
   "cell_type": "code",
   "execution_count": 34,
   "metadata": {},
   "outputs": [
    {
     "data": {
      "text/plain": [
       "0        Positive\n",
       "1        Positive\n",
       "2        Positive\n",
       "3        Positive\n",
       "4        Positive\n",
       "           ...   \n",
       "35907    Positive\n",
       "35908    Positive\n",
       "35909    Positive\n",
       "35910     Neutral\n",
       "35911     Neutral\n",
       "Name: sentiment, Length: 35912, dtype: object"
      ]
     },
     "execution_count": 34,
     "metadata": {},
     "output_type": "execute_result"
    }
   ],
   "source": [
    "hotel_reviews['sentiment']"
   ]
  },
  {
   "cell_type": "code",
   "execution_count": 35,
   "metadata": {},
   "outputs": [
    {
     "data": {
      "text/html": [
       "<div>\n",
       "<style scoped>\n",
       "    .dataframe tbody tr th:only-of-type {\n",
       "        vertical-align: middle;\n",
       "    }\n",
       "\n",
       "    .dataframe tbody tr th {\n",
       "        vertical-align: top;\n",
       "    }\n",
       "\n",
       "    .dataframe thead th {\n",
       "        text-align: right;\n",
       "    }\n",
       "</style>\n",
       "<table border=\"1\" class=\"dataframe\">\n",
       "  <thead>\n",
       "    <tr style=\"text-align: right;\">\n",
       "      <th></th>\n",
       "      <th>reviews.rating</th>\n",
       "      <th>reviews.text</th>\n",
       "      <th>sentiment.score</th>\n",
       "      <th>sentiment</th>\n",
       "    </tr>\n",
       "  </thead>\n",
       "  <tbody>\n",
       "    <tr>\n",
       "      <th>0</th>\n",
       "      <td>4.0</td>\n",
       "      <td>pleasant 10 min walk along sea front water bus...</td>\n",
       "      <td>(0.611111111111111, 0.7888888888888889)</td>\n",
       "      <td>Positive</td>\n",
       "    </tr>\n",
       "    <tr>\n",
       "      <th>1</th>\n",
       "      <td>5.0</td>\n",
       "      <td>really lovely hotel stayed top floor surprised...</td>\n",
       "      <td>(0.5535714285714286, 0.7000000000000001)</td>\n",
       "      <td>Positive</td>\n",
       "    </tr>\n",
       "    <tr>\n",
       "      <th>2</th>\n",
       "      <td>5.0</td>\n",
       "      <td>ett mycket bra hotell det som drog ner betyget...</td>\n",
       "      <td>(0.35, 0.55)</td>\n",
       "      <td>Positive</td>\n",
       "    </tr>\n",
       "    <tr>\n",
       "      <th>3</th>\n",
       "      <td>5.0</td>\n",
       "      <td>stayed four night october hotel staff welcomin...</td>\n",
       "      <td>(0.3177083333333333, 0.625)</td>\n",
       "      <td>Positive</td>\n",
       "    </tr>\n",
       "    <tr>\n",
       "      <th>4</th>\n",
       "      <td>5.0</td>\n",
       "      <td>stayed four night october hotel staff welcomin...</td>\n",
       "      <td>(0.3177083333333333, 0.625)</td>\n",
       "      <td>Positive</td>\n",
       "    </tr>\n",
       "    <tr>\n",
       "      <th>...</th>\n",
       "      <td>...</td>\n",
       "      <td>...</td>\n",
       "      <td>...</td>\n",
       "      <td>...</td>\n",
       "    </tr>\n",
       "    <tr>\n",
       "      <th>35907</th>\n",
       "      <td>5.0</td>\n",
       "      <td>best best family stayed grin bear cabin christ...</td>\n",
       "      <td>(0.6749999999999999, 0.4875)</td>\n",
       "      <td>Positive</td>\n",
       "    </tr>\n",
       "    <tr>\n",
       "      <th>35908</th>\n",
       "      <td>5.0</td>\n",
       "      <td>amazing vacation beautiful cabin stayed long w...</td>\n",
       "      <td>(0.3, 0.545)</td>\n",
       "      <td>Positive</td>\n",
       "    </tr>\n",
       "    <tr>\n",
       "      <th>35909</th>\n",
       "      <td>5.0</td>\n",
       "      <td>husband stayed tree top bearfoot resort manage...</td>\n",
       "      <td>(0.2239484126984127, 0.5442857142857143)</td>\n",
       "      <td>Positive</td>\n",
       "    </tr>\n",
       "    <tr>\n",
       "      <th>35910</th>\n",
       "      <td>0.0</td>\n",
       "      <td>share opinion businesswith yp visitor across u...</td>\n",
       "      <td>(0.0, 0.0)</td>\n",
       "      <td>Neutral</td>\n",
       "    </tr>\n",
       "    <tr>\n",
       "      <th>35911</th>\n",
       "      <td>0.0</td>\n",
       "      <td>xxxxxxxxxxxxxxxxxxxxxxxxxxxxxxxxxxxxxxxxxx</td>\n",
       "      <td>(0.0, 0.0)</td>\n",
       "      <td>Neutral</td>\n",
       "    </tr>\n",
       "  </tbody>\n",
       "</table>\n",
       "<p>35912 rows × 4 columns</p>\n",
       "</div>"
      ],
      "text/plain": [
       "       reviews.rating                                       reviews.text  \\\n",
       "0                 4.0  pleasant 10 min walk along sea front water bus...   \n",
       "1                 5.0  really lovely hotel stayed top floor surprised...   \n",
       "2                 5.0  ett mycket bra hotell det som drog ner betyget...   \n",
       "3                 5.0  stayed four night october hotel staff welcomin...   \n",
       "4                 5.0  stayed four night october hotel staff welcomin...   \n",
       "...               ...                                                ...   \n",
       "35907             5.0  best best family stayed grin bear cabin christ...   \n",
       "35908             5.0  amazing vacation beautiful cabin stayed long w...   \n",
       "35909             5.0  husband stayed tree top bearfoot resort manage...   \n",
       "35910             0.0  share opinion businesswith yp visitor across u...   \n",
       "35911             0.0         xxxxxxxxxxxxxxxxxxxxxxxxxxxxxxxxxxxxxxxxxx   \n",
       "\n",
       "                                sentiment.score sentiment  \n",
       "0       (0.611111111111111, 0.7888888888888889)  Positive  \n",
       "1      (0.5535714285714286, 0.7000000000000001)  Positive  \n",
       "2                                  (0.35, 0.55)  Positive  \n",
       "3                   (0.3177083333333333, 0.625)  Positive  \n",
       "4                   (0.3177083333333333, 0.625)  Positive  \n",
       "...                                         ...       ...  \n",
       "35907              (0.6749999999999999, 0.4875)  Positive  \n",
       "35908                              (0.3, 0.545)  Positive  \n",
       "35909  (0.2239484126984127, 0.5442857142857143)  Positive  \n",
       "35910                                (0.0, 0.0)   Neutral  \n",
       "35911                                (0.0, 0.0)   Neutral  \n",
       "\n",
       "[35912 rows x 4 columns]"
      ]
     },
     "execution_count": 35,
     "metadata": {},
     "output_type": "execute_result"
    }
   ],
   "source": [
    "hotel_reviews"
   ]
  },
  {
   "cell_type": "code",
   "execution_count": 36,
   "metadata": {},
   "outputs": [],
   "source": [
    "X_hotel_reviews = np.array(hotel_reviews.iloc[:,1].values)\n",
    "cv = CountVectorizer(max_features = 1000) # Bag of words count vectorizer\n",
    "X_hotel_reviews = cv.fit_transform(hotel_reviews['reviews.text']).toarray()\n",
    "Y_sentiments = np.array(hotel_reviews['sentiment'].values)"
   ]
  },
  {
   "cell_type": "code",
   "execution_count": 37,
   "metadata": {},
   "outputs": [
    {
     "data": {
      "text/plain": [
       "array([[0, 1, 0, ..., 0, 0, 0],\n",
       "       [0, 0, 0, ..., 0, 0, 0],\n",
       "       [0, 0, 0, ..., 0, 0, 0],\n",
       "       ...,\n",
       "       [0, 0, 0, ..., 0, 0, 0],\n",
       "       [0, 0, 0, ..., 0, 0, 1],\n",
       "       [0, 0, 0, ..., 0, 0, 0]], dtype=int64)"
      ]
     },
     "execution_count": 37,
     "metadata": {},
     "output_type": "execute_result"
    }
   ],
   "source": [
    "X_hotel_reviews"
   ]
  },
  {
   "cell_type": "code",
   "execution_count": 38,
   "metadata": {},
   "outputs": [
    {
     "data": {
      "text/plain": [
       "array(['Positive', 'Positive', 'Positive', ..., 'Positive', 'Neutral',\n",
       "       'Neutral'], dtype=object)"
      ]
     },
     "execution_count": 38,
     "metadata": {},
     "output_type": "execute_result"
    }
   ],
   "source": [
    "Y_sentiments"
   ]
  },
  {
   "cell_type": "code",
   "execution_count": 39,
   "metadata": {},
   "outputs": [],
   "source": [
    "# Train Test And Split\n",
    "hotel_reviews_train,hotel_reviews_test,sentiments_train,sentiments_test = train_test_split(X_hotel_reviews, Y_sentiments, test_size=0.3,random_state=9)"
   ]
  },
  {
   "cell_type": "code",
   "execution_count": 40,
   "metadata": {},
   "outputs": [
    {
     "data": {
      "text/plain": [
       "(25138, 1000)"
      ]
     },
     "execution_count": 40,
     "metadata": {},
     "output_type": "execute_result"
    }
   ],
   "source": [
    "hotel_reviews_train.shape"
   ]
  },
  {
   "cell_type": "code",
   "execution_count": 41,
   "metadata": {},
   "outputs": [
    {
     "data": {
      "text/plain": [
       "(10774, 1000)"
      ]
     },
     "execution_count": 41,
     "metadata": {},
     "output_type": "execute_result"
    }
   ],
   "source": [
    "hotel_reviews_test.shape"
   ]
  },
  {
   "cell_type": "code",
   "execution_count": 42,
   "metadata": {},
   "outputs": [
    {
     "data": {
      "text/plain": [
       "(25138,)"
      ]
     },
     "execution_count": 42,
     "metadata": {},
     "output_type": "execute_result"
    }
   ],
   "source": [
    "sentiments_train.shape"
   ]
  },
  {
   "cell_type": "code",
   "execution_count": 43,
   "metadata": {},
   "outputs": [
    {
     "data": {
      "text/plain": [
       "(10774,)"
      ]
     },
     "execution_count": 43,
     "metadata": {},
     "output_type": "execute_result"
    }
   ],
   "source": [
    "sentiments_test.shape"
   ]
  },
  {
   "cell_type": "code",
   "execution_count": 44,
   "metadata": {},
   "outputs": [
    {
     "data": {
      "text/plain": [
       "MultinomialNB(alpha=1.0, class_prior=None, fit_prior=True)"
      ]
     },
     "execution_count": 44,
     "metadata": {},
     "output_type": "execute_result"
    }
   ],
   "source": [
    "# Defining the models and Training\n",
    "mnb = MultinomialNB(alpha=1.0,fit_prior=True)\n",
    "mnb.fit(hotel_reviews_train,sentiments_train)"
   ]
  },
  {
   "cell_type": "code",
   "execution_count": 45,
   "metadata": {},
   "outputs": [],
   "source": [
    "# Prediction and accuracy metrics of Model\n",
    "sentiments_predicted=mnb.predict(hotel_reviews_test)"
   ]
  },
  {
   "cell_type": "code",
   "execution_count": 46,
   "metadata": {},
   "outputs": [
    {
     "name": "stdout",
     "output_type": "stream",
     "text": [
      "Accuracy of Model Using Text Blob, Count Vectorizer And Lemmatization =  0.8320957861518471\n"
     ]
    }
   ],
   "source": [
    "print(\"Accuracy of Model Using Text Blob, Count Vectorizer And Lemmatization = \",accuracy_score(sentiments_test,sentiments_predicted))"
   ]
  },
  {
   "cell_type": "code",
   "execution_count": 47,
   "metadata": {},
   "outputs": [
    {
     "name": "stdout",
     "output_type": "stream",
     "text": [
      "              precision    recall  f1-score   support\n",
      "\n",
      "    Negative       0.52      0.71      0.60      1333\n",
      "     Neutral       0.81      0.36      0.49       923\n",
      "    Positive       0.90      0.90      0.90      8518\n",
      "\n",
      "    accuracy                           0.83     10774\n",
      "   macro avg       0.74      0.66      0.67     10774\n",
      "weighted avg       0.84      0.83      0.83     10774\n",
      "\n"
     ]
    }
   ],
   "source": [
    "# Classification Report of Model Using Text Blob, Count Vectorizer And Lemmatization  \n",
    "print(classification_report(sentiments_test,sentiments_predicted))"
   ]
  },
  {
   "cell_type": "code",
   "execution_count": 48,
   "metadata": {},
   "outputs": [
    {
     "name": "stdout",
     "output_type": "stream",
     "text": [
      "[[ 942   20  371]\n",
      " [ 101  329  493]\n",
      " [ 766   58 7694]]\n"
     ]
    }
   ],
   "source": [
    "# Confusion Matrix of Model Using Text Blob, Count Vectorizer And Lemmatization\n",
    "print(confusion_matrix(sentiments_test,sentiments_predicted))"
   ]
  },
  {
   "cell_type": "code",
   "execution_count": 49,
   "metadata": {},
   "outputs": [],
   "source": [
    "# Term Frequency and Inverse Document Frequency Creation\n",
    "tfidf = TfidfVectorizer()\n",
    "X_hotel_reviews = tfidf.fit_transform(hotel_reviews['reviews.text']).toarray()"
   ]
  },
  {
   "cell_type": "code",
   "execution_count": 50,
   "metadata": {},
   "outputs": [
    {
     "data": {
      "text/plain": [
       "array([[0., 0., 0., ..., 0., 0., 0.],\n",
       "       [0., 0., 0., ..., 0., 0., 0.],\n",
       "       [0., 0., 0., ..., 0., 0., 0.],\n",
       "       ...,\n",
       "       [0., 0., 0., ..., 0., 0., 0.],\n",
       "       [0., 0., 0., ..., 0., 0., 0.],\n",
       "       [0., 0., 0., ..., 0., 0., 0.]])"
      ]
     },
     "execution_count": 50,
     "metadata": {},
     "output_type": "execute_result"
    }
   ],
   "source": [
    "# Term Frequency and Inverse Document Frequency Creation Array \n",
    "X_hotel_reviews"
   ]
  },
  {
   "cell_type": "code",
   "execution_count": 51,
   "metadata": {},
   "outputs": [],
   "source": [
    "# Train Test And Split On TF and IDF\n",
    "hotel_reviews_train, hotel_reviews_test, sentiments_train, sentiments_test = train_test_split(X_hotel_reviews, Y_sentiments, test_size=0.2,random_state=9)"
   ]
  },
  {
   "cell_type": "code",
   "execution_count": 52,
   "metadata": {},
   "outputs": [
    {
     "data": {
      "text/plain": [
       "(28729, 29637)"
      ]
     },
     "execution_count": 52,
     "metadata": {},
     "output_type": "execute_result"
    }
   ],
   "source": [
    "hotel_reviews_train.shape"
   ]
  },
  {
   "cell_type": "code",
   "execution_count": 53,
   "metadata": {},
   "outputs": [
    {
     "data": {
      "text/plain": [
       "(7183, 29637)"
      ]
     },
     "execution_count": 53,
     "metadata": {},
     "output_type": "execute_result"
    }
   ],
   "source": [
    "hotel_reviews_test.shape"
   ]
  },
  {
   "cell_type": "code",
   "execution_count": 54,
   "metadata": {},
   "outputs": [
    {
     "data": {
      "text/plain": [
       "(28729,)"
      ]
     },
     "execution_count": 54,
     "metadata": {},
     "output_type": "execute_result"
    }
   ],
   "source": [
    "sentiments_train.shape"
   ]
  },
  {
   "cell_type": "code",
   "execution_count": 55,
   "metadata": {},
   "outputs": [
    {
     "data": {
      "text/plain": [
       "(7183,)"
      ]
     },
     "execution_count": 55,
     "metadata": {},
     "output_type": "execute_result"
    }
   ],
   "source": [
    "sentiments_test.shape"
   ]
  },
  {
   "cell_type": "code",
   "execution_count": 56,
   "metadata": {},
   "outputs": [
    {
     "data": {
      "text/plain": [
       "MultinomialNB(alpha=1.0, class_prior=None, fit_prior=True)"
      ]
     },
     "execution_count": 56,
     "metadata": {},
     "output_type": "execute_result"
    }
   ],
   "source": [
    "# Defining the models and Training\n",
    "mnb = MultinomialNB(alpha=1.0,fit_prior=True)\n",
    "mnb.fit(hotel_reviews_train,sentiments_train)"
   ]
  },
  {
   "cell_type": "code",
   "execution_count": 57,
   "metadata": {},
   "outputs": [],
   "source": [
    "# Prediction and accuracy metrics of Model\n",
    "sentiments_predicted=mnb.predict(hotel_reviews_test)"
   ]
  },
  {
   "cell_type": "code",
   "execution_count": 58,
   "metadata": {},
   "outputs": [
    {
     "name": "stdout",
     "output_type": "stream",
     "text": [
      "Accuracy of Model Using Text Blob, TF, IDF Vectorizer And Lemmatization  =  0.829736878741473\n"
     ]
    }
   ],
   "source": [
    "print(\"Accuracy of Model Using Text Blob, TF, IDF Vectorizer And Lemmatization  = \",accuracy_score(sentiments_test,sentiments_predicted))"
   ]
  },
  {
   "cell_type": "code",
   "execution_count": 59,
   "metadata": {},
   "outputs": [
    {
     "name": "stdout",
     "output_type": "stream",
     "text": [
      "              precision    recall  f1-score   support\n",
      "\n",
      "    Negative       0.96      0.03      0.06       878\n",
      "     Neutral       0.85      0.47      0.60       618\n",
      "    Positive       0.83      0.99      0.90      5687\n",
      "\n",
      "    accuracy                           0.83      7183\n",
      "   macro avg       0.88      0.50      0.52      7183\n",
      "weighted avg       0.85      0.83      0.77      7183\n",
      "\n"
     ]
    }
   ],
   "source": [
    "# Classification Report of Model Using Text Blob, TF, IDF Vectorizer And Lemmatization  \n",
    "print(classification_report(sentiments_test,sentiments_predicted))"
   ]
  },
  {
   "cell_type": "code",
   "execution_count": 60,
   "metadata": {},
   "outputs": [
    {
     "name": "stdout",
     "output_type": "stream",
     "text": [
      "[[  25   12  841]\n",
      " [   1  288  329]\n",
      " [   0   40 5647]]\n"
     ]
    }
   ],
   "source": [
    "# Confusion Matrix of Model Using Text Blob, TF, IDF Vectorizer And Lemmatization\n",
    "print(confusion_matrix(sentiments_test,sentiments_predicted))"
   ]
  },
  {
   "cell_type": "code",
   "execution_count": null,
   "metadata": {},
   "outputs": [],
   "source": []
  }
 ],
 "metadata": {
  "kernelspec": {
   "display_name": "Python 3",
   "language": "python",
   "name": "python3"
  },
  "language_info": {
   "codemirror_mode": {
    "name": "ipython",
    "version": 3
   },
   "file_extension": ".py",
   "mimetype": "text/x-python",
   "name": "python",
   "nbconvert_exporter": "python",
   "pygments_lexer": "ipython3",
   "version": "3.8.10"
  }
 },
 "nbformat": 4,
 "nbformat_minor": 5
}
