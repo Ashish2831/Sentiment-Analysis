{
 "cells": [
  {
   "cell_type": "markdown",
   "id": "5b45eebe",
   "metadata": {},
   "source": [
    "# Name - Ashish Dinesh Patil"
   ]
  },
  {
   "cell_type": "code",
   "execution_count": 1,
   "id": "b8f709e8",
   "metadata": {},
   "outputs": [],
   "source": [
    "import numpy as np   # Numpy Library for Statistics\n",
    "import pandas as pd   # Pandas library for DataFrame\n",
    "import re   # Regular Expression for matching patterns\n",
    "from nltk.corpus import stopwords   # Stopwords - To remove words with less meaning\n",
    "from nltk.tokenize import word_tokenize   # Word Tokenizer\n",
    "from nltk.stem import PorterStemmer   # Stemming \n",
    "from sklearn.feature_extraction.text import CountVectorizer   # Bag of Words\n",
    "from sklearn.feature_extraction.text import TfidfVectorizer   # Term Freq. and Inverse Document Freq.\n",
    "from sklearn.model_selection import train_test_split   # For training and spliting (80%-20%)\n",
    "from sklearn.naive_bayes import MultinomialNB    # Naive Byes ML Model\n",
    "from sklearn.metrics import accuracy_score   # Analysis"
   ]
  },
  {
   "cell_type": "code",
   "execution_count": 2,
   "id": "292e81eb",
   "metadata": {},
   "outputs": [
    {
     "name": "stdout",
     "output_type": "stream",
     "text": [
      "(13871, 3)\n"
     ]
    },
    {
     "data": {
      "text/html": [
       "<div>\n",
       "<style scoped>\n",
       "    .dataframe tbody tr th:only-of-type {\n",
       "        vertical-align: middle;\n",
       "    }\n",
       "\n",
       "    .dataframe tbody tr th {\n",
       "        vertical-align: top;\n",
       "    }\n",
       "\n",
       "    .dataframe thead th {\n",
       "        text-align: right;\n",
       "    }\n",
       "</style>\n",
       "<table border=\"1\" class=\"dataframe\">\n",
       "  <thead>\n",
       "    <tr style=\"text-align: right;\">\n",
       "      <th></th>\n",
       "      <th>id</th>\n",
       "      <th>sentiment</th>\n",
       "      <th>text</th>\n",
       "    </tr>\n",
       "  </thead>\n",
       "  <tbody>\n",
       "    <tr>\n",
       "      <th>0</th>\n",
       "      <td>1</td>\n",
       "      <td>Neutral</td>\n",
       "      <td>RT @NancyLeeGrahn: How did everyone feel about...</td>\n",
       "    </tr>\n",
       "    <tr>\n",
       "      <th>1</th>\n",
       "      <td>2</td>\n",
       "      <td>Positive</td>\n",
       "      <td>RT @ScottWalker: Didn't catch the full #GOPdeb...</td>\n",
       "    </tr>\n",
       "    <tr>\n",
       "      <th>2</th>\n",
       "      <td>3</td>\n",
       "      <td>Neutral</td>\n",
       "      <td>RT @TJMShow: No mention of Tamir Rice and the ...</td>\n",
       "    </tr>\n",
       "    <tr>\n",
       "      <th>3</th>\n",
       "      <td>4</td>\n",
       "      <td>Positive</td>\n",
       "      <td>RT @RobGeorge: That Carly Fiorina is trending ...</td>\n",
       "    </tr>\n",
       "    <tr>\n",
       "      <th>4</th>\n",
       "      <td>5</td>\n",
       "      <td>Positive</td>\n",
       "      <td>RT @DanScavino: #GOPDebate w/ @realDonaldTrump...</td>\n",
       "    </tr>\n",
       "  </tbody>\n",
       "</table>\n",
       "</div>"
      ],
      "text/plain": [
       "   id sentiment                                               text\n",
       "0   1   Neutral  RT @NancyLeeGrahn: How did everyone feel about...\n",
       "1   2  Positive  RT @ScottWalker: Didn't catch the full #GOPdeb...\n",
       "2   3   Neutral  RT @TJMShow: No mention of Tamir Rice and the ...\n",
       "3   4  Positive  RT @RobGeorge: That Carly Fiorina is trending ...\n",
       "4   5  Positive  RT @DanScavino: #GOPDebate w/ @realDonaldTrump..."
      ]
     },
     "execution_count": 2,
     "metadata": {},
     "output_type": "execute_result"
    }
   ],
   "source": [
    "twitter_data = pd.read_csv('Sentiment.csv')\n",
    "twitter_data = pd.DataFrame(twitter_data)\n",
    "\n",
    "print(twitter_data.shape)\n",
    "twitter_data.head()"
   ]
  },
  {
   "cell_type": "code",
   "execution_count": 3,
   "id": "887ac900",
   "metadata": {},
   "outputs": [
    {
     "name": "stdout",
     "output_type": "stream",
     "text": [
      "<class 'pandas.core.frame.DataFrame'>\n",
      "RangeIndex: 13871 entries, 0 to 13870\n",
      "Data columns (total 3 columns):\n",
      " #   Column     Non-Null Count  Dtype \n",
      "---  ------     --------------  ----- \n",
      " 0   id         13871 non-null  int64 \n",
      " 1   sentiment  13871 non-null  object\n",
      " 2   text       13871 non-null  object\n",
      "dtypes: int64(1), object(2)\n",
      "memory usage: 325.2+ KB\n"
     ]
    }
   ],
   "source": [
    "twitter_data.info() # Information related to Data Frame"
   ]
  },
  {
   "cell_type": "code",
   "execution_count": 4,
   "id": "b6cfbf9a",
   "metadata": {},
   "outputs": [
    {
     "data": {
      "text/html": [
       "<div>\n",
       "<style scoped>\n",
       "    .dataframe tbody tr th:only-of-type {\n",
       "        vertical-align: middle;\n",
       "    }\n",
       "\n",
       "    .dataframe tbody tr th {\n",
       "        vertical-align: top;\n",
       "    }\n",
       "\n",
       "    .dataframe thead th {\n",
       "        text-align: right;\n",
       "    }\n",
       "</style>\n",
       "<table border=\"1\" class=\"dataframe\">\n",
       "  <thead>\n",
       "    <tr style=\"text-align: right;\">\n",
       "      <th></th>\n",
       "      <th>id</th>\n",
       "    </tr>\n",
       "  </thead>\n",
       "  <tbody>\n",
       "    <tr>\n",
       "      <th>count</th>\n",
       "      <td>13871.000000</td>\n",
       "    </tr>\n",
       "    <tr>\n",
       "      <th>mean</th>\n",
       "      <td>6936.000000</td>\n",
       "    </tr>\n",
       "    <tr>\n",
       "      <th>std</th>\n",
       "      <td>4004.357127</td>\n",
       "    </tr>\n",
       "    <tr>\n",
       "      <th>min</th>\n",
       "      <td>1.000000</td>\n",
       "    </tr>\n",
       "    <tr>\n",
       "      <th>25%</th>\n",
       "      <td>3468.500000</td>\n",
       "    </tr>\n",
       "    <tr>\n",
       "      <th>50%</th>\n",
       "      <td>6936.000000</td>\n",
       "    </tr>\n",
       "    <tr>\n",
       "      <th>75%</th>\n",
       "      <td>10403.500000</td>\n",
       "    </tr>\n",
       "    <tr>\n",
       "      <th>max</th>\n",
       "      <td>13871.000000</td>\n",
       "    </tr>\n",
       "  </tbody>\n",
       "</table>\n",
       "</div>"
      ],
      "text/plain": [
       "                 id\n",
       "count  13871.000000\n",
       "mean    6936.000000\n",
       "std     4004.357127\n",
       "min        1.000000\n",
       "25%     3468.500000\n",
       "50%     6936.000000\n",
       "75%    10403.500000\n",
       "max    13871.000000"
      ]
     },
     "execution_count": 4,
     "metadata": {},
     "output_type": "execute_result"
    }
   ],
   "source": [
    "twitter_data.describe() # Describes Data Frame"
   ]
  },
  {
   "cell_type": "code",
   "execution_count": 5,
   "id": "61b50cbd",
   "metadata": {},
   "outputs": [
    {
     "data": {
      "text/plain": [
       "Negative    8493\n",
       "Neutral     3142\n",
       "Positive    2236\n",
       "Name: sentiment, dtype: int64"
      ]
     },
     "execution_count": 5,
     "metadata": {},
     "output_type": "execute_result"
    }
   ],
   "source": [
    "twitter_data.sentiment.value_counts() # Sentiment Counts"
   ]
  },
  {
   "cell_type": "code",
   "execution_count": 6,
   "id": "6666ba7a",
   "metadata": {},
   "outputs": [],
   "source": [
    "# Replace sentiment 'Positive' with '1' and 'Negative' with '0' \n",
    "# twitter_data.sentiment.replace('Positive',1,inplace=True)\n",
    "# twitter_data.sentiment.replace('Negative',0,inplace=True)\n",
    "# twitter_data.head(10)"
   ]
  },
  {
   "cell_type": "code",
   "execution_count": 7,
   "id": "82b0e339",
   "metadata": {},
   "outputs": [],
   "source": [
    "# Function to convert upper case to lower case\n",
    "def toLower(text):\n",
    "    return text.lower()"
   ]
  },
  {
   "cell_type": "code",
   "execution_count": 8,
   "id": "75fc883a",
   "metadata": {},
   "outputs": [
    {
     "data": {
      "text/plain": [
       "'rt @nancyleegrahn: how did everyone feel about the climate change question last night? exactly. #gopdebate'"
      ]
     },
     "execution_count": 8,
     "metadata": {},
     "output_type": "execute_result"
    }
   ],
   "source": [
    "twitter_data.text = twitter_data.text.apply(toLower)\n",
    "twitter_data.text[0]"
   ]
  },
  {
   "cell_type": "code",
   "execution_count": 9,
   "id": "9b63b205",
   "metadata": {},
   "outputs": [],
   "source": [
    "# Function to clean data using regular expressions\n",
    "def clean(text):\n",
    "    regex1 = re.compile(r'rt @.*?: ')\n",
    "    cleaned1 = re.sub(regex1,'',text)\n",
    "    regex2 = re.compile(r'@\\w+')\n",
    "    cleaned2 = re.sub(regex2,'',cleaned1)\n",
    "    regex3 = re.compile(r'#\\w+')\n",
    "    cleaned3 = re.sub(regex3,'',cleaned2)\n",
    "    regex4 = re.compile(r'http://t.co/\\w+')\n",
    "    return re.sub(regex4,'',cleaned3)"
   ]
  },
  {
   "cell_type": "code",
   "execution_count": 10,
   "id": "fe78f507",
   "metadata": {},
   "outputs": [
    {
     "data": {
      "text/plain": [
       "'how did everyone feel about the climate change question last night? exactly. '"
      ]
     },
     "execution_count": 10,
     "metadata": {},
     "output_type": "execute_result"
    }
   ],
   "source": [
    "twitter_data.text = twitter_data.text.apply(clean)\n",
    "twitter_data.text[0]"
   ]
  },
  {
   "cell_type": "code",
   "execution_count": 11,
   "id": "7e545dab",
   "metadata": {},
   "outputs": [],
   "source": [
    "# Function to remove special characters\n",
    "def isSpecial(text):\n",
    "    rem = ''\n",
    "    for i in text:\n",
    "        if i.isalnum():\n",
    "            rem = rem + i\n",
    "        else:\n",
    "            rem = rem + ' '\n",
    "    return rem"
   ]
  },
  {
   "cell_type": "code",
   "execution_count": 12,
   "id": "446261d1",
   "metadata": {},
   "outputs": [
    {
     "data": {
      "text/plain": [
       "'how did everyone feel about the climate change question last night  exactly  '"
      ]
     },
     "execution_count": 12,
     "metadata": {},
     "output_type": "execute_result"
    }
   ],
   "source": [
    "twitter_data.text = twitter_data.text.apply(isSpecial)\n",
    "twitter_data.text[0]"
   ]
  },
  {
   "cell_type": "code",
   "execution_count": 13,
   "id": "74885d83",
   "metadata": {},
   "outputs": [],
   "source": [
    "# Function to remove stopwords\n",
    "def removeStopwords(text):\n",
    "    stop_words = set(stopwords.words('english'))\n",
    "    words = word_tokenize(text)\n",
    "    return [w for w in words if w not in stop_words]"
   ]
  },
  {
   "cell_type": "code",
   "execution_count": 14,
   "id": "f50afe9d",
   "metadata": {},
   "outputs": [
    {
     "data": {
      "text/plain": [
       "['everyone',\n",
       " 'feel',\n",
       " 'climate',\n",
       " 'change',\n",
       " 'question',\n",
       " 'last',\n",
       " 'night',\n",
       " 'exactly']"
      ]
     },
     "execution_count": 14,
     "metadata": {},
     "output_type": "execute_result"
    }
   ],
   "source": [
    "twitter_data.text = twitter_data.text.apply(removeStopwords)\n",
    "twitter_data.text[0]"
   ]
  },
  {
   "cell_type": "code",
   "execution_count": 15,
   "id": "8aae15e7",
   "metadata": {},
   "outputs": [
    {
     "data": {
      "text/plain": [
       "['thought', 'huckabee', 'exceeded', 'expectations', 'http']"
      ]
     },
     "execution_count": 15,
     "metadata": {},
     "output_type": "execute_result"
    }
   ],
   "source": [
    "twitter_data.text[13867]"
   ]
  },
  {
   "cell_type": "code",
   "execution_count": 16,
   "id": "22be6094",
   "metadata": {},
   "outputs": [],
   "source": [
    "# Apply Stemming\n",
    "def stemming(text):\n",
    "    ps = PorterStemmer()\n",
    "    return \" \".join([ps.stem(w) for w in text])"
   ]
  },
  {
   "cell_type": "code",
   "execution_count": 17,
   "id": "78e85463",
   "metadata": {},
   "outputs": [
    {
     "data": {
      "text/plain": [
       "'everyon feel climat chang question last night exactli'"
      ]
     },
     "execution_count": 17,
     "metadata": {},
     "output_type": "execute_result"
    }
   ],
   "source": [
    "twitter_data.text = twitter_data.text.apply(stemming)\n",
    "twitter_data.text[0]"
   ]
  },
  {
   "cell_type": "code",
   "execution_count": 18,
   "id": "24a777e2",
   "metadata": {},
   "outputs": [
    {
     "name": "stdout",
     "output_type": "stream",
     "text": [
      "reviews.shape =  (13871, 1000)\n",
      "sentiments.shape =  (13871,)\n"
     ]
    }
   ],
   "source": [
    "# Bag of Words Creation\n",
    "reviews = np.array(twitter_data.iloc[:,0].values)\n",
    "sentiments = np.array(twitter_data.sentiment.values)\n",
    "cv = CountVectorizer(max_features = 1000) # Bag of words count vectorizer\n",
    "cv_reviews = cv.fit_transform(twitter_data.text).toarray()\n",
    "print(\"reviews.shape = \",cv_reviews.shape)\n",
    "print(\"sentiments.shape = \",sentiments.shape)"
   ]
  },
  {
   "cell_type": "code",
   "execution_count": 19,
   "id": "b17859cb",
   "metadata": {},
   "outputs": [
    {
     "data": {
      "text/plain": [
       "array([[0, 0, 0, ..., 0, 0, 0],\n",
       "       [0, 0, 0, ..., 0, 0, 0],\n",
       "       [0, 0, 0, ..., 0, 0, 0],\n",
       "       ...,\n",
       "       [0, 0, 0, ..., 0, 0, 0],\n",
       "       [0, 0, 0, ..., 0, 0, 0],\n",
       "       [0, 0, 0, ..., 0, 0, 0]], dtype=int64)"
      ]
     },
     "execution_count": 19,
     "metadata": {},
     "output_type": "execute_result"
    }
   ],
   "source": [
    "# Bag of Words Array\n",
    "cv_reviews"
   ]
  },
  {
   "cell_type": "code",
   "execution_count": 20,
   "id": "b46bcaa0",
   "metadata": {},
   "outputs": [],
   "source": [
    "# Term Frequency and Inverse Document Frequency Creation\n",
    "tfidf = TfidfVectorizer()\n",
    "tfidf_reviews = tfidf.fit_transform(twitter_data.text).toarray()"
   ]
  },
  {
   "cell_type": "code",
   "execution_count": 21,
   "id": "5702db74",
   "metadata": {},
   "outputs": [
    {
     "data": {
      "text/plain": [
       "array([[0., 0., 0., ..., 0., 0., 0.],\n",
       "       [0., 0., 0., ..., 0., 0., 0.],\n",
       "       [0., 0., 0., ..., 0., 0., 0.],\n",
       "       ...,\n",
       "       [0., 0., 0., ..., 0., 0., 0.],\n",
       "       [0., 0., 0., ..., 0., 0., 0.],\n",
       "       [0., 0., 0., ..., 0., 0., 0.]])"
      ]
     },
     "execution_count": 21,
     "metadata": {},
     "output_type": "execute_result"
    }
   ],
   "source": [
    "# Term Frequency and Inverse Document Frequency Creation Array \n",
    "tfidf_reviews"
   ]
  },
  {
   "cell_type": "code",
   "execution_count": 22,
   "id": "2f4093bc",
   "metadata": {},
   "outputs": [],
   "source": [
    "# Train Test And Split On Bag of Words\n",
    "cv_reviews_train,cv_reviews_test,sentiments_train,sentiments_test = train_test_split(cv_reviews, sentiments, test_size=0.2,random_state=9)"
   ]
  },
  {
   "cell_type": "code",
   "execution_count": 23,
   "id": "88ac74c1",
   "metadata": {},
   "outputs": [
    {
     "data": {
      "text/plain": [
       "(11096, 1000)"
      ]
     },
     "execution_count": 23,
     "metadata": {},
     "output_type": "execute_result"
    }
   ],
   "source": [
    "cv_reviews_train.shape"
   ]
  },
  {
   "cell_type": "code",
   "execution_count": 24,
   "id": "5b9d7a60",
   "metadata": {},
   "outputs": [
    {
     "data": {
      "text/plain": [
       "(2775, 1000)"
      ]
     },
     "execution_count": 24,
     "metadata": {},
     "output_type": "execute_result"
    }
   ],
   "source": [
    "cv_reviews_test.shape"
   ]
  },
  {
   "cell_type": "code",
   "execution_count": 25,
   "id": "e4b37855",
   "metadata": {},
   "outputs": [
    {
     "data": {
      "text/plain": [
       "(11096,)"
      ]
     },
     "execution_count": 25,
     "metadata": {},
     "output_type": "execute_result"
    }
   ],
   "source": [
    "sentiments_train.shape"
   ]
  },
  {
   "cell_type": "code",
   "execution_count": 26,
   "id": "511ea251",
   "metadata": {},
   "outputs": [
    {
     "data": {
      "text/plain": [
       "(2775,)"
      ]
     },
     "execution_count": 26,
     "metadata": {},
     "output_type": "execute_result"
    }
   ],
   "source": [
    "sentiments_test.shape"
   ]
  },
  {
   "cell_type": "code",
   "execution_count": 27,
   "id": "67eba5ca",
   "metadata": {},
   "outputs": [
    {
     "data": {
      "text/plain": [
       "MultinomialNB()"
      ]
     },
     "execution_count": 27,
     "metadata": {},
     "output_type": "execute_result"
    }
   ],
   "source": [
    "# Defining the models and Training\n",
    "mnb = MultinomialNB(alpha=1.0,fit_prior=True)\n",
    "mnb.fit(cv_reviews_train,sentiments_train)"
   ]
  },
  {
   "cell_type": "code",
   "execution_count": 28,
   "id": "98a1fd57",
   "metadata": {},
   "outputs": [],
   "source": [
    "# Prediction and accuracy metrics of Model\n",
    "sentiments_predicted=mnb.predict(cv_reviews_test)"
   ]
  },
  {
   "cell_type": "code",
   "execution_count": 29,
   "id": "1a5fa150",
   "metadata": {},
   "outputs": [
    {
     "name": "stdout",
     "output_type": "stream",
     "text": [
      "Accuracy of Model Using Count Vectorizer And Stemming =  0.6299099099099099\n"
     ]
    }
   ],
   "source": [
    "print(\"Accuracy of Model Using Count Vectorizer And Stemming = \",accuracy_score(sentiments_test,sentiments_predicted))"
   ]
  },
  {
   "cell_type": "code",
   "execution_count": 30,
   "id": "0b3b148b",
   "metadata": {},
   "outputs": [],
   "source": [
    "# Train Test And Split On TF and IDF\n",
    "tfidf_reviews_train,tfidf_reviews_test,sentiments_train,sentiments_test = train_test_split(tfidf_reviews, sentiments, test_size=0.2,random_state=9)"
   ]
  },
  {
   "cell_type": "code",
   "execution_count": 31,
   "id": "377fdcbb",
   "metadata": {},
   "outputs": [
    {
     "data": {
      "text/plain": [
       "(11096, 8066)"
      ]
     },
     "execution_count": 31,
     "metadata": {},
     "output_type": "execute_result"
    }
   ],
   "source": [
    "tfidf_reviews_train.shape"
   ]
  },
  {
   "cell_type": "code",
   "execution_count": 32,
   "id": "b8b00018",
   "metadata": {},
   "outputs": [
    {
     "data": {
      "text/plain": [
       "(2775, 8066)"
      ]
     },
     "execution_count": 32,
     "metadata": {},
     "output_type": "execute_result"
    }
   ],
   "source": [
    "tfidf_reviews_test.shape"
   ]
  },
  {
   "cell_type": "code",
   "execution_count": 33,
   "id": "7adce2b4",
   "metadata": {},
   "outputs": [
    {
     "data": {
      "text/plain": [
       "(11096,)"
      ]
     },
     "execution_count": 33,
     "metadata": {},
     "output_type": "execute_result"
    }
   ],
   "source": [
    "sentiments_train.shape"
   ]
  },
  {
   "cell_type": "code",
   "execution_count": 34,
   "id": "189b9c3a",
   "metadata": {},
   "outputs": [
    {
     "data": {
      "text/plain": [
       "(2775,)"
      ]
     },
     "execution_count": 34,
     "metadata": {},
     "output_type": "execute_result"
    }
   ],
   "source": [
    "sentiments_test.shape"
   ]
  },
  {
   "cell_type": "code",
   "execution_count": 35,
   "id": "e34e208a",
   "metadata": {},
   "outputs": [
    {
     "data": {
      "text/plain": [
       "MultinomialNB()"
      ]
     },
     "execution_count": 35,
     "metadata": {},
     "output_type": "execute_result"
    }
   ],
   "source": [
    "# Defining the models and Training\n",
    "mnb = MultinomialNB(alpha=1.0,fit_prior=True)\n",
    "mnb.fit(tfidf_reviews_train,sentiments_train)"
   ]
  },
  {
   "cell_type": "code",
   "execution_count": 36,
   "id": "b55185a3",
   "metadata": {},
   "outputs": [],
   "source": [
    "# Prediction and accuracy metrics of Model\n",
    "sentiments_predicted=mnb.predict(tfidf_reviews_test)"
   ]
  },
  {
   "cell_type": "code",
   "execution_count": 37,
   "id": "21036ee3",
   "metadata": {},
   "outputs": [
    {
     "name": "stdout",
     "output_type": "stream",
     "text": [
      "Accuracy of Model Using TF, IDF and Stemming =  0.6594594594594595\n"
     ]
    }
   ],
   "source": [
    "print(\"Accuracy of Model Using TF, IDF and Stemming = \",accuracy_score(sentiments_test,sentiments_predicted))"
   ]
  },
  {
   "cell_type": "code",
   "execution_count": null,
   "id": "b262a38f",
   "metadata": {},
   "outputs": [],
   "source": []
  }
 ],
 "metadata": {
  "kernelspec": {
   "display_name": "Python 3 (ipykernel)",
   "language": "python",
   "name": "python3"
  },
  "language_info": {
   "codemirror_mode": {
    "name": "ipython",
    "version": 3
   },
   "file_extension": ".py",
   "mimetype": "text/x-python",
   "name": "python",
   "nbconvert_exporter": "python",
   "pygments_lexer": "ipython3",
   "version": "3.9.6"
  }
 },
 "nbformat": 4,
 "nbformat_minor": 5
}
